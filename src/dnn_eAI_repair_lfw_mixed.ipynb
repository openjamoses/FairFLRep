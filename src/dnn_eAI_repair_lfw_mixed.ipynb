{
 "cells": [
  {
   "cell_type": "code",
   "execution_count": 54,
   "id": "initial_id",
   "metadata": {
    "collapsed": true,
    "ExecuteTime": {
     "end_time": "2024-08-19T20:34:24.845848Z",
     "start_time": "2024-08-19T20:34:24.843033Z"
    }
   },
   "outputs": [],
   "source": [
    "import numpy as np\n",
    "import pandas as pd\n",
    "import os\n",
    "import cv2\n",
    "import time\n",
    "from numpy import random\n",
    "from sklearn.model_selection import train_test_split\n",
    "from sklearn import preprocessing\n",
    "from IPython.display import Markdown, display\n",
    "import matplotlib.pyplot as plt\n",
    "#import tensorflow.keras.backend as K\n",
    "import tensorflow.compat.v1.keras.backend as K\n",
    "from src.dnn_testing.eAI.utils import validate_utils_cost as validate_utils\n",
    "from tensorflow import keras\n",
    "%matplotlib inline"
   ]
  },
  {
   "cell_type": "code",
   "outputs": [],
   "source": [
    " # Helper function\n",
    "# Print markdown style\n",
    "def printmd(string):\n",
    "    display(Markdown(string))\n",
    "    \n",
    "# cm is the confusion matrix, names are the names of the classes.\n",
    "def plot_confusion_matrix(cm, names, title='Confusion matrix', cmap=plt.cm.Blues):\n",
    "    plt.imshow(cm, interpolation='nearest', cmap=cmap)\n",
    "    plt.title(title)\n",
    "    plt.colorbar()\n",
    "    tick_marks = np.arange(len(names))\n",
    "    plt.xticks(tick_marks, names, rotation=90)\n",
    "    plt.yticks(tick_marks, names)\n",
    "    plt.tight_layout()\n",
    "    plt.ylabel('True label')\n",
    "    plt.xlabel('Predicted label')"
   ],
   "metadata": {
    "collapsed": false,
    "ExecuteTime": {
     "end_time": "2024-08-19T20:34:25.123258Z",
     "start_time": "2024-08-19T20:34:25.118392Z"
    }
   },
   "id": "b585c60b30acbda1",
   "execution_count": 55
  },
  {
   "cell_type": "code",
   "outputs": [],
   "source": [
    "TRAINING_PATH = '../nii_dataset/training/LFW/'\n",
    "DATA_PATH = '../nii_dataset/LFW/'\n",
    "EXP_PATH = '../nii_dataset/experiments/eAI-fair-aware-mixed/LFW/'"
   ],
   "metadata": {
    "collapsed": false,
    "ExecuteTime": {
     "end_time": "2024-08-19T20:34:41.013227Z",
     "start_time": "2024-08-19T20:34:41.007633Z"
    }
   },
   "id": "1dbfedb34777725",
   "execution_count": 58
  },
  {
   "cell_type": "code",
   "outputs": [],
   "source": [
    "from src.dnn_testing.eAI.utils import data_util\n",
    "from pathlib import Path"
   ],
   "metadata": {
    "collapsed": false,
    "ExecuteTime": {
     "end_time": "2024-08-19T20:34:41.422716Z",
     "start_time": "2024-08-19T20:34:41.419251Z"
    }
   },
   "id": "a6e5addbf9349745",
   "execution_count": 59
  },
  {
   "cell_type": "code",
   "outputs": [],
   "source": [
    "filepath = TRAINING_PATH+'VGG-Gender.h5'\n",
    "#filepath = TRAINING_PATH+\"LetNet5-gender-lfw.h5\"\n",
    "batch_size = 32\n",
    "num_runs = 30\n",
    "Exp_name = 'Exp-repair-vgg16-v1'\n",
    "#Exp_name = 'Exp-repair-LeNet5-v1'\n",
    "model_dir = filepath\n",
    "FAIRNESS = 'FPR'\n",
    "unfav = 1\n",
    "based_on = 5\n",
    "topN = 8\n",
    "random_seed = 42\n",
    "sample_global = False\n",
    "INCLUDE_POSITIVE = False\n",
    "EXP_TYPE = 'None'\n",
    "SAMPLE_TYPE = 0\n",
    "data_dir = Path(EXP_PATH+'{}'.format(Exp_name))\n",
    "data_sampled_dir = Path(EXP_PATH+'{}/sampled'.format(Exp_name))"
   ],
   "metadata": {
    "collapsed": false,
    "ExecuteTime": {
     "end_time": "2024-08-19T20:34:48.371957Z",
     "start_time": "2024-08-19T20:34:48.365092Z"
    }
   },
   "id": "9a063eca1105df53",
   "execution_count": 60
  },
  {
   "cell_type": "code",
   "outputs": [],
   "source": [
    "if not Path.exists(data_dir):\n",
    "    Path.mkdir(data_dir, exist_ok=True, parents=True)\n",
    "if not Path.exists(data_sampled_dir):\n",
    "    Path.mkdir(data_sampled_dir, exist_ok=True, parents=True)"
   ],
   "metadata": {
    "collapsed": false,
    "ExecuteTime": {
     "end_time": "2024-08-19T20:34:48.944376Z",
     "start_time": "2024-08-19T20:34:48.937359Z"
    }
   },
   "id": "582517506a4451a0",
   "execution_count": 61
  },
  {
   "cell_type": "code",
   "outputs": [],
   "source": [
    "#test_images, test_labels = data_util.load_dataset_from_hdf(Path('../nii_dataset/experiments/eAI/LFW/'), \"test.h5\")\n",
    "#test_images, test_age, test_labels, test_race = data_util.load_dataset_from_hdf_multiple_labels(Path(EXP_PATH), 'test_data.h5')\n",
    "test_images, test_labels = data_util.load_dataset_from_hdf(Path(EXP_PATH), 'test.h5')"
   ],
   "metadata": {
    "collapsed": false,
    "ExecuteTime": {
     "end_time": "2024-08-19T20:34:49.430321Z",
     "start_time": "2024-08-19T20:34:49.406284Z"
    }
   },
   "id": "b8fafa099f94e237",
   "execution_count": 62
  },
  {
   "cell_type": "code",
   "outputs": [],
   "source": [
    "model = data_util.load_model_from_tf(Path(filepath))"
   ],
   "metadata": {
    "collapsed": false,
    "ExecuteTime": {
     "end_time": "2024-08-19T20:34:50.438530Z",
     "start_time": "2024-08-19T20:34:49.754754Z"
    }
   },
   "id": "a032f11f1b6d6043",
   "execution_count": 63
  },
  {
   "cell_type": "code",
   "outputs": [],
   "source": [
    "results = model.predict(test_images, verbose=0, batch_size=batch_size)"
   ],
   "metadata": {
    "collapsed": false,
    "ExecuteTime": {
     "end_time": "2024-08-19T20:34:52.099290Z",
     "start_time": "2024-08-19T20:34:50.440708Z"
    }
   },
   "id": "a9beafc1f8e7f2df",
   "execution_count": 64
  },
  {
   "cell_type": "code",
   "outputs": [],
   "source": [
    "successes, failures, data_all, _, _, _, _, _, _, _, _, _, _, _, _ = data_util._parse_test_results_both(test_images, test_labels, results,decision_boundary=0.1)"
   ],
   "metadata": {
    "collapsed": false,
    "ExecuteTime": {
     "end_time": "2024-08-19T20:34:52.219833Z",
     "start_time": "2024-08-19T20:34:52.112226Z"
    }
   },
   "id": "c5283bef1050da6",
   "execution_count": 65
  },
  {
   "cell_type": "code",
   "outputs": [],
   "source": [
    "data_util._save_positive_results_with_indices(successes, data_dir, 'positive')\n",
    "data_util._save_negative_results_with_indices(failures, data_dir, 'negative')\n",
    "data_util._save_negative_results_with_indices(data_all, data_dir, 'data_both')"
   ],
   "metadata": {
    "collapsed": false,
    "ExecuteTime": {
     "end_time": "2024-08-19T20:34:52.504041Z",
     "start_time": "2024-08-19T20:34:52.221913Z"
    }
   },
   "id": "5f5974c89e484b8e",
   "execution_count": 66
  },
  {
   "cell_type": "code",
   "outputs": [
    {
     "name": "stdout",
     "output_type": "stream",
     "text": [
      "(504, 32, 32, 3)\n"
     ]
    }
   ],
   "source": [
    "target_data_neg_dir = Path(EXP_PATH+'{}/negative'.format(Exp_name))\n",
    "target_data_dir_both = Path(EXP_PATH+'{}/data_both'.format(Exp_name))\n",
    "target_data_pos_dir = Path(EXP_PATH+'{}/positive'.format(Exp_name))\n",
    "\n",
    "output_dir = Path(EXP_PATH+'{}/results-{}-{}/{}/{}'.format(Exp_name, SAMPLE_TYPE, EXP_TYPE, str(based_on), FAIRNESS))\n",
    "output_eval_dir = Path(EXP_PATH + '{}/evaluation-{}-{}/{}/{}'.format(Exp_name, SAMPLE_TYPE, EXP_TYPE, str(based_on), FAIRNESS))\n",
    "\n",
    "input_neg = data_util.load_repair_data(target_data_neg_dir)\n",
    "input_pos = data_util.load_repair_data(target_data_pos_dir)\n",
    "input_both = data_util.load_repair_data(target_data_dir_both)\n",
    "\n",
    "print(input_neg[0].shape)\n",
    "data_dict = {}\n",
    "unfav, W_M, W_F, W_MC, W_MM, W_FC, W_FM, MC, MM, FC, FM = validate_utils._get_subgroup_names_as_binary(np.argmax(test_labels, axis=1), np.argmax(results, axis=1))\n",
    "for i in range(num_runs):\n",
    "    if SAMPLE_TYPE == 1:\n",
    "        if not Path.exists(data_sampled_dir/'sampled_neg_{}_{}.h5'.format(SAMPLE_TYPE, i)):\n",
    "            input_neg2, input_pos2, input_both2 = data_util._parse_results_sample_negative(test_images, test_labels, results, unfav)\n",
    "            data_util.save_dataset_as_hdf_multiple_labels(input_neg2[0], [input_neg2[1], input_neg2[2]], ['labels', 'sensitive'], data_sampled_dir/'sampled_neg_{}_{}.h5'.format(SAMPLE_TYPE, i))\n",
    "            data_util.save_dataset_as_hdf_multiple_labels(input_pos2[0], [input_pos2[1], input_pos2[2]], ['labels', 'sensitive'], data_sampled_dir/'sampled_pos_{}_{}.h5'.format(SAMPLE_TYPE, i))\n",
    "            data_util.save_dataset_as_hdf_multiple_labels(input_both2[0], [input_both2[1], input_both2[2]], ['labels', 'sensitive'], data_sampled_dir/'sampled_both_{}_{}.h5'.format(SAMPLE_TYPE, i))\n",
    "            data_dict[i] = {'NEG':input_neg2, 'POS':input_pos2, 'BOTH':input_both2}\n",
    "        else:\n",
    "            ## todo: load neg\n",
    "            input_neg2 = data_util.load_dataset_from_hdf_images_labels_sensitive(data_sampled_dir, 'sampled_neg_{}_{}.h5'.format(SAMPLE_TYPE, i))\n",
    "            ## todo: load pos\n",
    "            input_pos2 = data_util.load_dataset_from_hdf_images_labels_sensitive(data_sampled_dir, 'sampled_pos_{}_{}.h5'.format(SAMPLE_TYPE, i))\n",
    "            ## todo: load both\n",
    "            input_both2 = data_util.load_dataset_from_hdf_images_labels_sensitive(data_sampled_dir, 'sampled_both_{}_{}.h5'.format(SAMPLE_TYPE, i))\n",
    "\n",
    "            data_dict[i] = {'NEG':input_neg2, 'POS':input_pos2, 'BOTH':input_both2}\n",
    "    else:\n",
    "        if not Path.exists(data_sampled_dir/'sampled_neg_{}_{}.h5'.format(SAMPLE_TYPE, i)):\n",
    "            input_pos_sampled, _ = data_util._sample_positive_inputs(input_pos, input_neg[0].shape[0])\n",
    "            #sens_pos = test_race[input_pos_sampled[2]]\n",
    "            #sensi_both_indices = np.hstack((input_neg[2].astype(int), input_pos_sampled[2].astype(int))) \n",
    "            sensi_both = np.vstack((np.argmax(input_neg[1], axis=1), np.argmax(input_pos_sampled[1], axis=1)))\n",
    "            input_neg = (input_neg[0], input_neg[1], np.argmax(input_neg[1], axis=1))\n",
    "            input_pos_sampled = (input_pos_sampled[0], input_pos_sampled[1], np.argmax(input_pos_sampled[1], axis=1))\n",
    "            \n",
    "            input_both_sampled = (np.vstack((input_neg[0], input_pos_sampled[0])), np.vstack((input_neg[1], input_pos_sampled[1])), sensi_both)\n",
    "            data_util.save_dataset_as_hdf_multiple_labels(input_neg[0], [input_neg[1], input_neg[2]], ['labels', 'sensitive'], data_sampled_dir/'sampled_neg_{}_{}.h5'.format(SAMPLE_TYPE, i))\n",
    "            data_util.save_dataset_as_hdf_multiple_labels(input_pos_sampled[0], [input_pos_sampled[1], input_pos_sampled[2]], ['labels', 'sensitive'], data_sampled_dir/'sampled_pos_{}_{}.h5'.format(SAMPLE_TYPE, i))\n",
    "            data_util.save_dataset_as_hdf_multiple_labels(input_both_sampled[0], [input_both_sampled[1], input_both_sampled[2]], ['labels', 'sensitive'], data_sampled_dir/'sampled_both_{}_{}.h5'.format(SAMPLE_TYPE, i))\n",
    "            \n",
    "            data_dict[i] = {'NEG':input_neg, 'POS':input_pos_sampled, 'BOTH':input_both_sampled}\n",
    "        else:\n",
    "            ## todo: load neg\n",
    "            input_neg = data_util.load_dataset_from_hdf_images_labels_sensitive(data_sampled_dir, 'sampled_neg_{}_{}.h5'.format(SAMPLE_TYPE, i))\n",
    "            ## todo: load pos\n",
    "            input_pos_sampled = data_util.load_dataset_from_hdf_images_labels_sensitive(data_sampled_dir, 'sampled_pos_{}_{}.h5'.format(SAMPLE_TYPE, i))\n",
    "            ## todo: load both\n",
    "            #sens_both = np.hstack((input_neg[2], input_pos_sampled[2]))\n",
    "            #input_both_sampled = (np.vstack((input_neg[0], input_pos_sampled[0])), np.vstack((input_neg[1], input_pos_sampled[1])), sens_both)\n",
    "            #data_util.save_dataset_as_hdf_multiple_labels(input_both_sampled[0], [input_both_sampled[1], input_both_sampled[2]], ['labels', 'sensitive'], data_sampled_dir/'sampled_both_{}_{}.h5'.format(SAMPLE_TYPE, i))\n",
    "            \n",
    "            input_both_sampled = data_util.load_dataset_from_hdf_images_labels_sensitive(data_sampled_dir, 'sampled_both_{}_{}.h5'.format(SAMPLE_TYPE, i))\n",
    "            \n",
    "            data_dict[i] = {'NEG':input_neg, 'POS':input_pos_sampled, 'BOTH':input_both_sampled}"
   ],
   "metadata": {
    "collapsed": false,
    "ExecuteTime": {
     "end_time": "2024-08-19T20:34:53.015501Z",
     "start_time": "2024-08-19T20:34:52.517551Z"
    }
   },
   "id": "3ebac88b694ab65d",
   "execution_count": 67
  },
  {
   "cell_type": "code",
   "outputs": [],
   "source": [
    "if not Path.exists(output_dir):\n",
    "    Path.mkdir(output_dir, exist_ok=True, parents=True)\n",
    "if not Path.exists(output_eval_dir):\n",
    "    Path.mkdir(output_eval_dir, exist_ok=True, parents=True)"
   ],
   "metadata": {
    "collapsed": false,
    "ExecuteTime": {
     "end_time": "2024-08-19T20:34:53.133407Z",
     "start_time": "2024-08-19T20:34:53.010243Z"
    }
   },
   "id": "f25e188b70812c70",
   "execution_count": 68
  },
  {
   "cell_type": "code",
   "outputs": [],
   "source": [
    "from src.dnn_testing.eAI.utils.arachne_fairness_mixed import FairArachne2, EvaluateFairness"
   ],
   "metadata": {
    "collapsed": false,
    "ExecuteTime": {
     "end_time": "2024-08-19T20:34:53.146782Z",
     "start_time": "2024-08-19T20:34:53.134087Z"
    }
   },
   "id": "97a38f7cf3bf697a",
   "execution_count": 69
  },
  {
   "cell_type": "code",
   "outputs": [],
   "source": [
    "arachne = FairArachne2()"
   ],
   "metadata": {
    "collapsed": false,
    "ExecuteTime": {
     "end_time": "2024-08-19T20:34:53.249868Z",
     "start_time": "2024-08-19T20:34:53.137286Z"
    }
   },
   "id": "430958388928c8a3",
   "execution_count": 70
  },
  {
   "cell_type": "code",
   "outputs": [
    {
     "name": "stdout",
     "output_type": "stream",
     "text": [
      "(504, 32, 32, 3) None None\n"
     ]
    },
    {
     "name": "stderr",
     "output_type": "stream",
     "text": [
      "Computing gradient: 100%|██████████| 2/2 [00:00<00:00,  5.12it/s]\n",
      "Computing gradient: 100%|██████████| 2/2 [00:00<00:00,  8.12it/s]\n",
      "Computing gradient: 100%|██████████| 2/2 [00:00<00:00,  6.45it/s]\n",
      "Computing gradient: 100%|██████████| 2/2 [00:00<00:00,  8.22it/s]\n",
      "Computing forward impact: 100%|██████████| 512/512 [00:00<00:00, 627552.21it/s]\n",
      "Computing forward impact: 100%|██████████| 512/512 [00:00<00:00, 460932.31it/s]\n",
      "Computing forward impact: 100%|██████████| 512/512 [00:00<00:00, 1147773.20it/s]\n",
      "Collecting objectives for pareto-front: 100%|██████████| 512/512 [00:00<00:00, 1777718.25it/s]\n",
      "Identifying pareto-front: 100%|██████████| 512/512 [00:00<00:00, 35254.35it/s]\n",
      "Extracting pareto-front: 100%|██████████| 512/512 [00:00<00:00, 399680.56it/s]"
     ]
    },
    {
     "name": "stdout",
     "output_type": "stream",
     "text": [
      "=================\n",
      "Localize results\n",
      "created files:\n",
      "     ../nii_dataset/experiments/eAI-fair-aware-mixed/LFW/Exp-repair-vgg16-v1/results-0-None/5/FPR/weights.csv\n",
      "=================\n"
     ]
    },
    {
     "name": "stderr",
     "output_type": "stream",
     "text": [
      "\n"
     ]
    },
    {
     "data": {
      "text/plain": "<Figure size 640x480 with 1 Axes>",
      "image/png": "[encoded data removed]"
     },
     "metadata": {},
     "output_type": "display_data"
    }
   ],
   "source": [
    "weights_t = arachne.localize_bias(model_dir,data_dict[0]['NEG'], data_dict[0]['POS'], data_dict[0]['BOTH'], output_dir, unfav=unfav, sample_global=False,based_on=based_on, topN=topN)"
   ],
   "metadata": {
    "collapsed": false,
    "ExecuteTime": {
     "end_time": "2024-08-19T20:35:11.132292Z",
     "start_time": "2024-08-19T20:34:53.250965Z"
    }
   },
   "id": "2f489d1d429cc1cf",
   "execution_count": 71
  },
  {
   "cell_type": "code",
   "outputs": [
    {
     "name": "stdout",
     "output_type": "stream",
     "text": [
      "0 model path:  ../nii_dataset/training/LFW/VGG-Gender.h5\n",
      "(504, 32, 32, 3) None None\n"
     ]
    },
    {
     "name": "stderr",
     "output_type": "stream",
     "text": [
      "Computing gradient: 100%|██████████| 2/2 [00:00<00:00,  9.92it/s]\n",
      "Computing gradient: 100%|██████████| 2/2 [00:00<00:00,  8.29it/s]\n",
      "Computing gradient: 100%|██████████| 2/2 [00:00<00:00, 11.25it/s]\n",
      "Computing gradient: 100%|██████████| 2/2 [00:00<00:00,  8.48it/s]\n",
      "Computing forward impact: 100%|██████████| 512/512 [00:00<00:00, 608869.76it/s]\n",
      "Computing forward impact: 100%|██████████| 512/512 [00:00<00:00, 488953.47it/s]\n",
      "Computing forward impact: 100%|██████████| 512/512 [00:00<00:00, 1615864.29it/s]\n",
      "Collecting objectives for pareto-front: 100%|██████████| 512/512 [00:00<00:00, 3741260.71it/s]\n",
      "Identifying pareto-front: 100%|██████████| 512/512 [00:00<00:00, 35196.57it/s]\n",
      "Extracting pareto-front: 100%|██████████| 512/512 [00:00<00:00, 362628.11it/s]\n"
     ]
    },
    {
     "name": "stdout",
     "output_type": "stream",
     "text": [
      "=================\n",
      "Localize results\n",
      "created files:\n",
      "     ../nii_dataset/experiments/eAI-fair-aware-mixed/LFW/Exp-repair-vgg16-v1/results-0-None/5/FPR/localized_data_0/weights.csv\n",
      "=================\n"
     ]
    },
    {
     "name": "stderr",
     "output_type": "stream",
     "text": [
      "Initializing particles: 100%|██████████| 16/16 [00:00<00:00, 942.34it/s]\n",
      "Computing velocity bounds: 100%|██████████| 21/21 [00:00<00:00, 412.08it/s]\n",
      "Initializing particle's scores: 100%|██████████| 100/100 [00:40<00:00,  2.45it/s]\n",
      "Updating particle positions (it=1/100): 100%|██████████| 100/100 [00:39<00:00,  2.51it/s]\n",
      "Updating particle positions (it=2/100): 100%|██████████| 100/100 [00:39<00:00,  2.50it/s]\n",
      "Updating particle positions (it=3/100): 100%|██████████| 100/100 [00:39<00:00,  2.52it/s]\n",
      "Updating particle positions (it=4/100): 100%|██████████| 100/100 [00:39<00:00,  2.51it/s]\n",
      "Updating particle positions (it=5/100): 100%|██████████| 100/100 [00:40<00:00,  2.44it/s]\n",
      "Updating particle positions (it=6/100): 100%|██████████| 100/100 [00:41<00:00,  2.40it/s]\n",
      "Updating particle positions (it=7/100): 100%|██████████| 100/100 [00:40<00:00,  2.45it/s]\n",
      "Updating particle positions (it=8/100): 100%|██████████| 100/100 [00:39<00:00,  2.51it/s]\n",
      "Updating particle positions (it=9/100): 100%|██████████| 100/100 [00:39<00:00,  2.51it/s]\n",
      "Updating particle positions (it=10/100): 100%|██████████| 100/100 [00:40<00:00,  2.49it/s]\n",
      "Updating particle positions (it=11/100): 100%|██████████| 100/100 [00:39<00:00,  2.52it/s]\n",
      "Updating particle positions (it=12/100): 100%|██████████| 100/100 [00:39<00:00,  2.50it/s]\n"
     ]
    },
    {
     "name": "stdout",
     "output_type": "stream",
     "text": [
      "INFO:tensorflow:Assets written to: ../nii_dataset/experiments/eAI-fair-aware-mixed/LFW/Exp-repair-vgg16-v1/results-0-None/5/FPR/repaired_model_0/repair/assets\n"
     ]
    },
    {
     "name": "stderr",
     "output_type": "stream",
     "text": [
      "INFO:tensorflow:Assets written to: ../nii_dataset/experiments/eAI-fair-aware-mixed/LFW/Exp-repair-vgg16-v1/results-0-None/5/FPR/repaired_model_0/repair/assets\n"
     ]
    },
    {
     "name": "stdout",
     "output_type": "stream",
     "text": [
      "=================\n",
      "Optimize results\n",
      "created files:\n",
      "     ../nii_dataset/experiments/eAI-fair-aware-mixed/LFW/Exp-repair-vgg16-v1/results-0-None/5/FPR/repaired_model_0/weights.csv\n",
      "     ../nii_dataset/experiments/eAI-fair-aware-mixed/LFW/Exp-repair-vgg16-v1/results-0-None/5/FPR/localized_data_0/weights.csv\n",
      "=================\n",
      "1 model path:  ../nii_dataset/training/LFW/VGG-Gender.h5\n",
      "(504, 32, 32, 3) None None\n"
     ]
    },
    {
     "name": "stderr",
     "output_type": "stream",
     "text": [
      "Computing gradient: 100%|██████████| 2/2 [00:00<00:00,  8.27it/s]\n",
      "Computing gradient: 100%|██████████| 2/2 [00:00<00:00,  8.26it/s]\n",
      "Computing gradient: 100%|██████████| 2/2 [00:00<00:00, 11.24it/s]\n",
      "Computing gradient: 100%|██████████| 2/2 [00:00<00:00,  8.09it/s]\n",
      "Computing forward impact: 100%|██████████| 512/512 [00:00<00:00, 472805.73it/s]\n",
      "Computing forward impact: 100%|██████████| 512/512 [00:00<00:00, 87299.63it/s]\n",
      "Computing forward impact: 100%|██████████| 512/512 [00:00<00:00, 1451002.46it/s]\n",
      "Collecting objectives for pareto-front: 100%|██████████| 512/512 [00:00<00:00, 4006499.34it/s]\n",
      "Identifying pareto-front: 100%|██████████| 512/512 [00:00<00:00, 40239.16it/s]\n",
      "Extracting pareto-front: 100%|██████████| 512/512 [00:00<00:00, 447485.65it/s]\n"
     ]
    },
    {
     "name": "stdout",
     "output_type": "stream",
     "text": [
      "=================\n",
      "Localize results\n",
      "created files:\n",
      "     ../nii_dataset/experiments/eAI-fair-aware-mixed/LFW/Exp-repair-vgg16-v1/results-0-None/5/FPR/localized_data_1/weights.csv\n",
      "=================\n"
     ]
    },
    {
     "name": "stderr",
     "output_type": "stream",
     "text": [
      "Initializing particles: 100%|██████████| 14/14 [00:00<00:00, 968.39it/s]\n",
      "Computing velocity bounds: 100%|██████████| 21/21 [00:00<00:00, 394.79it/s]\n",
      "Initializing particle's scores: 100%|██████████| 100/100 [00:41<00:00,  2.40it/s]\n",
      "Updating particle positions (it=1/100): 100%|██████████| 100/100 [00:40<00:00,  2.50it/s]\n",
      "Updating particle positions (it=2/100): 100%|██████████| 100/100 [00:39<00:00,  2.51it/s]\n",
      "Updating particle positions (it=3/100): 100%|██████████| 100/100 [00:38<00:00,  2.59it/s]\n",
      "Updating particle positions (it=4/100): 100%|██████████| 100/100 [00:39<00:00,  2.50it/s]\n",
      "Updating particle positions (it=5/100): 100%|██████████| 100/100 [00:40<00:00,  2.47it/s]\n",
      "Updating particle positions (it=6/100): 100%|██████████| 100/100 [00:40<00:00,  2.47it/s]\n",
      "Updating particle positions (it=7/100): 100%|██████████| 100/100 [00:40<00:00,  2.47it/s]\n",
      "Updating particle positions (it=8/100): 100%|██████████| 100/100 [00:40<00:00,  2.49it/s]\n",
      "Updating particle positions (it=9/100): 100%|██████████| 100/100 [00:40<00:00,  2.47it/s]\n",
      "Updating particle positions (it=10/100): 100%|██████████| 100/100 [00:40<00:00,  2.46it/s]\n",
      "Updating particle positions (it=11/100): 100%|██████████| 100/100 [00:40<00:00,  2.47it/s]\n",
      "Updating particle positions (it=12/100): 100%|██████████| 100/100 [00:40<00:00,  2.46it/s]\n"
     ]
    },
    {
     "name": "stdout",
     "output_type": "stream",
     "text": [
      "INFO:tensorflow:Assets written to: ../nii_dataset/experiments/eAI-fair-aware-mixed/LFW/Exp-repair-vgg16-v1/results-0-None/5/FPR/repaired_model_1/repair/assets\n"
     ]
    },
    {
     "name": "stderr",
     "output_type": "stream",
     "text": [
      "INFO:tensorflow:Assets written to: ../nii_dataset/experiments/eAI-fair-aware-mixed/LFW/Exp-repair-vgg16-v1/results-0-None/5/FPR/repaired_model_1/repair/assets\n"
     ]
    },
    {
     "name": "stdout",
     "output_type": "stream",
     "text": [
      "=================\n",
      "Optimize results\n",
      "created files:\n",
      "     ../nii_dataset/experiments/eAI-fair-aware-mixed/LFW/Exp-repair-vgg16-v1/results-0-None/5/FPR/localized_data_1/weights.csv\n",
      "     ../nii_dataset/experiments/eAI-fair-aware-mixed/LFW/Exp-repair-vgg16-v1/results-0-None/5/FPR/repaired_model_1/weights.csv\n",
      "=================\n",
      "2 model path:  ../nii_dataset/training/LFW/VGG-Gender.h5\n",
      "(504, 32, 32, 3) None None\n"
     ]
    },
    {
     "name": "stderr",
     "output_type": "stream",
     "text": [
      "Computing gradient: 100%|██████████| 2/2 [00:00<00:00,  8.19it/s]\n",
      "Computing gradient: 100%|██████████| 2/2 [00:00<00:00,  8.29it/s]\n",
      "Computing gradient: 100%|██████████| 2/2 [00:00<00:00, 10.64it/s]\n",
      "Computing gradient: 100%|██████████| 2/2 [00:00<00:00,  8.10it/s]\n",
      "Computing forward impact: 100%|██████████| 512/512 [00:00<00:00, 587707.62it/s]\n",
      "Computing forward impact: 100%|██████████| 512/512 [00:00<00:00, 534998.42it/s]\n",
      "Computing forward impact: 100%|██████████| 512/512 [00:00<00:00, 1679033.34it/s]\n",
      "Collecting objectives for pareto-front: 100%|██████████| 512/512 [00:00<00:00, 3708952.76it/s]\n",
      "Identifying pareto-front: 100%|██████████| 512/512 [00:00<00:00, 36731.10it/s]\n",
      "Extracting pareto-front: 100%|██████████| 512/512 [00:00<00:00, 374582.88it/s]\n"
     ]
    },
    {
     "name": "stdout",
     "output_type": "stream",
     "text": [
      "=================\n",
      "Localize results\n",
      "created files:\n",
      "     ../nii_dataset/experiments/eAI-fair-aware-mixed/LFW/Exp-repair-vgg16-v1/results-0-None/5/FPR/localized_data_2/weights.csv\n",
      "=================\n"
     ]
    },
    {
     "name": "stderr",
     "output_type": "stream",
     "text": [
      "Initializing particles: 100%|██████████| 16/16 [00:00<00:00, 1131.86it/s]\n",
      "Computing velocity bounds: 100%|██████████| 21/21 [00:00<00:00, 325.01it/s]\n",
      "Initializing particle's scores: 100%|██████████| 100/100 [00:40<00:00,  2.47it/s]\n",
      "Updating particle positions (it=1/100): 100%|██████████| 100/100 [00:40<00:00,  2.48it/s]\n",
      "Updating particle positions (it=2/100): 100%|██████████| 100/100 [00:40<00:00,  2.47it/s]\n",
      "Updating particle positions (it=3/100): 100%|██████████| 100/100 [00:39<00:00,  2.53it/s]\n",
      "Updating particle positions (it=4/100): 100%|██████████| 100/100 [00:40<00:00,  2.49it/s]\n",
      "Updating particle positions (it=5/100): 100%|██████████| 100/100 [00:40<00:00,  2.48it/s]\n",
      "Updating particle positions (it=6/100): 100%|██████████| 100/100 [00:40<00:00,  2.47it/s]\n",
      "Updating particle positions (it=7/100): 100%|██████████| 100/100 [00:40<00:00,  2.45it/s]\n",
      "Updating particle positions (it=8/100): 100%|██████████| 100/100 [00:41<00:00,  2.41it/s]\n",
      "Updating particle positions (it=9/100): 100%|██████████| 100/100 [00:40<00:00,  2.44it/s]\n",
      "Updating particle positions (it=10/100): 100%|██████████| 100/100 [00:40<00:00,  2.45it/s]\n",
      "Updating particle positions (it=11/100): 100%|██████████| 100/100 [00:40<00:00,  2.48it/s]\n",
      "Updating particle positions (it=12/100): 100%|██████████| 100/100 [00:40<00:00,  2.48it/s]\n"
     ]
    },
    {
     "name": "stdout",
     "output_type": "stream",
     "text": [
      "INFO:tensorflow:Assets written to: ../nii_dataset/experiments/eAI-fair-aware-mixed/LFW/Exp-repair-vgg16-v1/results-0-None/5/FPR/repaired_model_2/repair/assets\n"
     ]
    },
    {
     "name": "stderr",
     "output_type": "stream",
     "text": [
      "INFO:tensorflow:Assets written to: ../nii_dataset/experiments/eAI-fair-aware-mixed/LFW/Exp-repair-vgg16-v1/results-0-None/5/FPR/repaired_model_2/repair/assets\n"
     ]
    },
    {
     "name": "stdout",
     "output_type": "stream",
     "text": [
      "=================\n",
      "Optimize results\n",
      "created files:\n",
      "     ../nii_dataset/experiments/eAI-fair-aware-mixed/LFW/Exp-repair-vgg16-v1/results-0-None/5/FPR/localized_data_2/weights.csv\n",
      "     ../nii_dataset/experiments/eAI-fair-aware-mixed/LFW/Exp-repair-vgg16-v1/results-0-None/5/FPR/repaired_model_2/weights.csv\n",
      "=================\n",
      "3 model path:  ../nii_dataset/training/LFW/VGG-Gender.h5\n",
      "(504, 32, 32, 3) None None\n"
     ]
    },
    {
     "name": "stderr",
     "output_type": "stream",
     "text": [
      "Computing gradient: 100%|██████████| 2/2 [00:00<00:00,  9.27it/s]\n",
      "Computing gradient: 100%|██████████| 2/2 [00:00<00:00,  8.30it/s]\n",
      "Computing gradient: 100%|██████████| 2/2 [00:00<00:00, 10.77it/s]\n",
      "Computing gradient: 100%|██████████| 2/2 [00:00<00:00, 10.18it/s]\n",
      "Computing forward impact: 100%|██████████| 512/512 [00:00<00:00, 563940.03it/s]\n",
      "Computing forward impact: 100%|██████████| 512/512 [00:00<00:00, 489510.75it/s]\n",
      "Computing forward impact: 100%|██████████| 512/512 [00:00<00:00, 1359166.87it/s]\n",
      "Collecting objectives for pareto-front: 100%|██████████| 512/512 [00:00<00:00, 3283614.14it/s]\n",
      "Identifying pareto-front: 100%|██████████| 512/512 [00:00<00:00, 36206.56it/s]\n",
      "Extracting pareto-front: 100%|██████████| 512/512 [00:00<00:00, 374517.55it/s]\n"
     ]
    },
    {
     "name": "stdout",
     "output_type": "stream",
     "text": [
      "=================\n",
      "Localize results\n",
      "created files:\n",
      "     ../nii_dataset/experiments/eAI-fair-aware-mixed/LFW/Exp-repair-vgg16-v1/results-0-None/5/FPR/localized_data_3/weights.csv\n",
      "=================\n"
     ]
    },
    {
     "name": "stderr",
     "output_type": "stream",
     "text": [
      "Initializing particles: 100%|██████████| 16/16 [00:00<00:00, 811.82it/s]\n",
      "Computing velocity bounds: 100%|██████████| 21/21 [00:00<00:00, 402.58it/s]\n",
      "Initializing particle's scores: 100%|██████████| 100/100 [00:39<00:00,  2.51it/s]\n",
      "Updating particle positions (it=1/100): 100%|██████████| 100/100 [00:40<00:00,  2.44it/s]\n",
      "Updating particle positions (it=2/100): 100%|██████████| 100/100 [00:40<00:00,  2.49it/s]\n",
      "Updating particle positions (it=3/100): 100%|██████████| 100/100 [00:40<00:00,  2.49it/s]\n",
      "Updating particle positions (it=4/100): 100%|██████████| 100/100 [00:40<00:00,  2.47it/s]\n",
      "Updating particle positions (it=5/100): 100%|██████████| 100/100 [00:40<00:00,  2.46it/s]\n",
      "Updating particle positions (it=6/100): 100%|██████████| 100/100 [00:41<00:00,  2.44it/s]\n",
      "Updating particle positions (it=7/100): 100%|██████████| 100/100 [00:40<00:00,  2.49it/s]\n",
      "Updating particle positions (it=8/100): 100%|██████████| 100/100 [00:40<00:00,  2.47it/s]\n",
      "Updating particle positions (it=9/100): 100%|██████████| 100/100 [00:40<00:00,  2.45it/s]\n",
      "Updating particle positions (it=10/100): 100%|██████████| 100/100 [00:40<00:00,  2.47it/s]\n",
      "Updating particle positions (it=11/100): 100%|██████████| 100/100 [00:39<00:00,  2.51it/s]\n",
      "Updating particle positions (it=12/100): 100%|██████████| 100/100 [00:40<00:00,  2.48it/s]\n"
     ]
    },
    {
     "name": "stdout",
     "output_type": "stream",
     "text": [
      "INFO:tensorflow:Assets written to: ../nii_dataset/experiments/eAI-fair-aware-mixed/LFW/Exp-repair-vgg16-v1/results-0-None/5/FPR/repaired_model_3/repair/assets\n"
     ]
    },
    {
     "name": "stderr",
     "output_type": "stream",
     "text": [
      "INFO:tensorflow:Assets written to: ../nii_dataset/experiments/eAI-fair-aware-mixed/LFW/Exp-repair-vgg16-v1/results-0-None/5/FPR/repaired_model_3/repair/assets\n"
     ]
    },
    {
     "name": "stdout",
     "output_type": "stream",
     "text": [
      "=================\n",
      "Optimize results\n",
      "created files:\n",
      "     ../nii_dataset/experiments/eAI-fair-aware-mixed/LFW/Exp-repair-vgg16-v1/results-0-None/5/FPR/localized_data_3/weights.csv\n",
      "     ../nii_dataset/experiments/eAI-fair-aware-mixed/LFW/Exp-repair-vgg16-v1/results-0-None/5/FPR/repaired_model_3/weights.csv\n",
      "=================\n",
      "4 model path:  ../nii_dataset/training/LFW/VGG-Gender.h5\n",
      "(504, 32, 32, 3) None None\n"
     ]
    },
    {
     "name": "stderr",
     "output_type": "stream",
     "text": [
      "Computing gradient: 100%|██████████| 2/2 [00:00<00:00,  9.38it/s]\n",
      "Computing gradient: 100%|██████████| 2/2 [00:00<00:00,  8.04it/s]\n",
      "Computing gradient: 100%|██████████| 2/2 [00:00<00:00, 11.17it/s]\n",
      "Computing gradient: 100%|██████████| 2/2 [00:00<00:00,  7.97it/s]\n",
      "Computing forward impact: 100%|██████████| 512/512 [00:00<00:00, 597352.89it/s]\n",
      "Computing forward impact: 100%|██████████| 512/512 [00:00<00:00, 202860.73it/s]\n",
      "Computing forward impact: 100%|██████████| 512/512 [00:00<00:00, 1537210.91it/s]\n",
      "Collecting objectives for pareto-front: 100%|██████████| 512/512 [00:00<00:00, 4029050.00it/s]\n",
      "Identifying pareto-front: 100%|██████████| 512/512 [00:00<00:00, 36715.40it/s]\n",
      "Extracting pareto-front: 100%|██████████| 512/512 [00:00<00:00, 328261.03it/s]\n"
     ]
    },
    {
     "name": "stdout",
     "output_type": "stream",
     "text": [
      "=================\n",
      "Localize results\n",
      "created files:\n",
      "     ../nii_dataset/experiments/eAI-fair-aware-mixed/LFW/Exp-repair-vgg16-v1/results-0-None/5/FPR/localized_data_4/weights.csv\n",
      "=================\n"
     ]
    },
    {
     "name": "stderr",
     "output_type": "stream",
     "text": [
      "Initializing particles: 100%|██████████| 19/19 [00:00<00:00, 930.57it/s]\n",
      "Computing velocity bounds: 100%|██████████| 21/21 [00:00<00:00, 344.19it/s]\n",
      "Initializing particle's scores: 100%|██████████| 100/100 [00:40<00:00,  2.47it/s]\n",
      "Updating particle positions (it=1/100): 100%|██████████| 100/100 [00:41<00:00,  2.40it/s]\n",
      "Updating particle positions (it=2/100): 100%|██████████| 100/100 [00:40<00:00,  2.45it/s]\n",
      "Updating particle positions (it=3/100): 100%|██████████| 100/100 [00:40<00:00,  2.50it/s]\n",
      "Updating particle positions (it=4/100): 100%|██████████| 100/100 [00:39<00:00,  2.50it/s]\n",
      "Updating particle positions (it=5/100): 100%|██████████| 100/100 [00:42<00:00,  2.37it/s]\n",
      "Updating particle positions (it=6/100): 100%|██████████| 100/100 [00:39<00:00,  2.51it/s]\n",
      "Updating particle positions (it=7/100): 100%|██████████| 100/100 [00:40<00:00,  2.47it/s]\n",
      "Updating particle positions (it=8/100): 100%|██████████| 100/100 [00:40<00:00,  2.50it/s]\n",
      "Updating particle positions (it=9/100): 100%|██████████| 100/100 [00:39<00:00,  2.51it/s]\n",
      "Updating particle positions (it=10/100): 100%|██████████| 100/100 [00:39<00:00,  2.52it/s]\n",
      "Updating particle positions (it=11/100): 100%|██████████| 100/100 [00:40<00:00,  2.49it/s]\n",
      "Updating particle positions (it=12/100): 100%|██████████| 100/100 [00:39<00:00,  2.54it/s]\n"
     ]
    },
    {
     "name": "stdout",
     "output_type": "stream",
     "text": [
      "INFO:tensorflow:Assets written to: ../nii_dataset/experiments/eAI-fair-aware-mixed/LFW/Exp-repair-vgg16-v1/results-0-None/5/FPR/repaired_model_4/repair/assets\n"
     ]
    },
    {
     "name": "stderr",
     "output_type": "stream",
     "text": [
      "INFO:tensorflow:Assets written to: ../nii_dataset/experiments/eAI-fair-aware-mixed/LFW/Exp-repair-vgg16-v1/results-0-None/5/FPR/repaired_model_4/repair/assets\n"
     ]
    },
    {
     "name": "stdout",
     "output_type": "stream",
     "text": [
      "=================\n",
      "Optimize results\n",
      "created files:\n",
      "     ../nii_dataset/experiments/eAI-fair-aware-mixed/LFW/Exp-repair-vgg16-v1/results-0-None/5/FPR/repaired_model_4/weights.csv\n",
      "     ../nii_dataset/experiments/eAI-fair-aware-mixed/LFW/Exp-repair-vgg16-v1/results-0-None/5/FPR/localized_data_4/weights.csv\n",
      "=================\n",
      "5 model path:  ../nii_dataset/training/LFW/VGG-Gender.h5\n",
      "(504, 32, 32, 3) None None\n"
     ]
    },
    {
     "name": "stderr",
     "output_type": "stream",
     "text": [
      "Computing gradient: 100%|██████████| 2/2 [00:00<00:00,  9.10it/s]\n",
      "Computing gradient: 100%|██████████| 2/2 [00:00<00:00,  8.28it/s]\n",
      "Computing gradient: 100%|██████████| 2/2 [00:00<00:00,  9.50it/s]\n",
      "Computing gradient: 100%|██████████| 2/2 [00:00<00:00,  8.07it/s]\n",
      "Computing forward impact: 100%|██████████| 512/512 [00:00<00:00, 477218.59it/s]\n",
      "Computing forward impact: 100%|██████████| 512/512 [00:00<00:00, 461229.31it/s]\n",
      "Computing forward impact: 100%|██████████| 512/512 [00:00<00:00, 1394469.90it/s]\n",
      "Collecting objectives for pareto-front: 100%|██████████| 512/512 [00:00<00:00, 3573184.11it/s]\n",
      "Identifying pareto-front: 100%|██████████| 512/512 [00:00<00:00, 34243.04it/s]\n",
      "Extracting pareto-front: 100%|██████████| 512/512 [00:00<00:00, 388473.89it/s]\n"
     ]
    },
    {
     "name": "stdout",
     "output_type": "stream",
     "text": [
      "=================\n",
      "Localize results\n",
      "created files:\n",
      "     ../nii_dataset/experiments/eAI-fair-aware-mixed/LFW/Exp-repair-vgg16-v1/results-0-None/5/FPR/localized_data_5/weights.csv\n",
      "=================\n"
     ]
    },
    {
     "name": "stderr",
     "output_type": "stream",
     "text": [
      "Initializing particles: 100%|██████████| 17/17 [00:00<00:00, 1079.91it/s]\n",
      "Computing velocity bounds: 100%|██████████| 21/21 [00:00<00:00, 428.28it/s]\n",
      "Initializing particle's scores: 100%|██████████| 100/100 [00:39<00:00,  2.51it/s]\n",
      "Updating particle positions (it=1/100): 100%|██████████| 100/100 [00:39<00:00,  2.53it/s]\n",
      "Updating particle positions (it=2/100): 100%|██████████| 100/100 [00:40<00:00,  2.49it/s]\n",
      "Updating particle positions (it=3/100): 100%|██████████| 100/100 [00:40<00:00,  2.44it/s]\n",
      "Updating particle positions (it=4/100): 100%|██████████| 100/100 [00:40<00:00,  2.45it/s]\n",
      "Updating particle positions (it=5/100): 100%|██████████| 100/100 [00:41<00:00,  2.44it/s]\n",
      "Updating particle positions (it=6/100): 100%|██████████| 100/100 [00:40<00:00,  2.48it/s]\n",
      "Updating particle positions (it=7/100): 100%|██████████| 100/100 [00:40<00:00,  2.46it/s]\n",
      "Updating particle positions (it=8/100): 100%|██████████| 100/100 [00:40<00:00,  2.44it/s]\n",
      "Updating particle positions (it=9/100): 100%|██████████| 100/100 [00:40<00:00,  2.49it/s]\n",
      "Updating particle positions (it=10/100): 100%|██████████| 100/100 [00:38<00:00,  2.58it/s]\n",
      "Updating particle positions (it=11/100): 100%|██████████| 100/100 [00:41<00:00,  2.39it/s]\n",
      "Updating particle positions (it=12/100): 100%|██████████| 100/100 [00:40<00:00,  2.45it/s]\n"
     ]
    },
    {
     "name": "stdout",
     "output_type": "stream",
     "text": [
      "INFO:tensorflow:Assets written to: ../nii_dataset/experiments/eAI-fair-aware-mixed/LFW/Exp-repair-vgg16-v1/results-0-None/5/FPR/repaired_model_5/repair/assets\n"
     ]
    },
    {
     "name": "stderr",
     "output_type": "stream",
     "text": [
      "INFO:tensorflow:Assets written to: ../nii_dataset/experiments/eAI-fair-aware-mixed/LFW/Exp-repair-vgg16-v1/results-0-None/5/FPR/repaired_model_5/repair/assets\n"
     ]
    },
    {
     "name": "stdout",
     "output_type": "stream",
     "text": [
      "=================\n",
      "Optimize results\n",
      "created files:\n",
      "     ../nii_dataset/experiments/eAI-fair-aware-mixed/LFW/Exp-repair-vgg16-v1/results-0-None/5/FPR/localized_data_5/weights.csv\n",
      "     ../nii_dataset/experiments/eAI-fair-aware-mixed/LFW/Exp-repair-vgg16-v1/results-0-None/5/FPR/repaired_model_5/weights.csv\n",
      "=================\n",
      "6 model path:  ../nii_dataset/training/LFW/VGG-Gender.h5\n",
      "(504, 32, 32, 3) None None\n"
     ]
    },
    {
     "name": "stderr",
     "output_type": "stream",
     "text": [
      "Computing gradient: 100%|██████████| 2/2 [00:00<00:00,  8.76it/s]\n",
      "Computing gradient: 100%|██████████| 2/2 [00:00<00:00,  8.30it/s]\n",
      "Computing gradient: 100%|██████████| 2/2 [00:00<00:00, 10.25it/s]\n",
      "Computing gradient: 100%|██████████| 2/2 [00:00<00:00,  8.25it/s]\n",
      "Computing forward impact: 100%|██████████| 512/512 [00:00<00:00, 436480.42it/s]\n",
      "Computing forward impact: 100%|██████████| 512/512 [00:00<00:00, 445998.68it/s]\n",
      "Computing forward impact: 100%|██████████| 512/512 [00:00<00:00, 1237029.75it/s]\n",
      "Collecting objectives for pareto-front: 100%|██████████| 512/512 [00:00<00:00, 3419559.95it/s]\n",
      "Identifying pareto-front: 100%|██████████| 512/512 [00:00<00:00, 35176.39it/s]\n",
      "Extracting pareto-front: 100%|██████████| 512/512 [00:00<00:00, 392664.77it/s]\n"
     ]
    },
    {
     "name": "stdout",
     "output_type": "stream",
     "text": [
      "=================\n",
      "Localize results\n",
      "created files:\n",
      "     ../nii_dataset/experiments/eAI-fair-aware-mixed/LFW/Exp-repair-vgg16-v1/results-0-None/5/FPR/localized_data_6/weights.csv\n",
      "=================\n"
     ]
    },
    {
     "name": "stderr",
     "output_type": "stream",
     "text": [
      "Initializing particles: 100%|██████████| 15/15 [00:00<00:00, 1239.65it/s]\n",
      "Computing velocity bounds: 100%|██████████| 21/21 [00:00<00:00, 368.07it/s]\n",
      "Initializing particle's scores: 100%|██████████| 100/100 [00:40<00:00,  2.49it/s]\n",
      "Updating particle positions (it=1/100): 100%|██████████| 100/100 [00:39<00:00,  2.51it/s]\n",
      "Updating particle positions (it=2/100): 100%|██████████| 100/100 [00:40<00:00,  2.45it/s]\n",
      "Updating particle positions (it=3/100): 100%|██████████| 100/100 [00:41<00:00,  2.44it/s]\n",
      "Updating particle positions (it=4/100): 100%|██████████| 100/100 [00:40<00:00,  2.46it/s]\n",
      "Updating particle positions (it=5/100): 100%|██████████| 100/100 [00:40<00:00,  2.46it/s]\n",
      "Updating particle positions (it=6/100): 100%|██████████| 100/100 [00:40<00:00,  2.46it/s]\n",
      "Updating particle positions (it=7/100): 100%|██████████| 100/100 [00:39<00:00,  2.50it/s]\n",
      "Updating particle positions (it=8/100): 100%|██████████| 100/100 [00:38<00:00,  2.58it/s]\n",
      "Updating particle positions (it=9/100): 100%|██████████| 100/100 [00:39<00:00,  2.53it/s]\n",
      "Updating particle positions (it=10/100): 100%|██████████| 100/100 [00:39<00:00,  2.52it/s]\n",
      "Updating particle positions (it=11/100): 100%|██████████| 100/100 [00:39<00:00,  2.54it/s]\n",
      "Updating particle positions (it=12/100): 100%|██████████| 100/100 [00:39<00:00,  2.56it/s]\n"
     ]
    },
    {
     "name": "stdout",
     "output_type": "stream",
     "text": [
      "INFO:tensorflow:Assets written to: ../nii_dataset/experiments/eAI-fair-aware-mixed/LFW/Exp-repair-vgg16-v1/results-0-None/5/FPR/repaired_model_6/repair/assets\n"
     ]
    },
    {
     "name": "stderr",
     "output_type": "stream",
     "text": [
      "INFO:tensorflow:Assets written to: ../nii_dataset/experiments/eAI-fair-aware-mixed/LFW/Exp-repair-vgg16-v1/results-0-None/5/FPR/repaired_model_6/repair/assets\n"
     ]
    },
    {
     "name": "stdout",
     "output_type": "stream",
     "text": [
      "=================\n",
      "Optimize results\n",
      "created files:\n",
      "     ../nii_dataset/experiments/eAI-fair-aware-mixed/LFW/Exp-repair-vgg16-v1/results-0-None/5/FPR/localized_data_6/weights.csv\n",
      "     ../nii_dataset/experiments/eAI-fair-aware-mixed/LFW/Exp-repair-vgg16-v1/results-0-None/5/FPR/repaired_model_6/weights.csv\n",
      "=================\n",
      "7 model path:  ../nii_dataset/training/LFW/VGG-Gender.h5\n",
      "(504, 32, 32, 3) None None\n"
     ]
    },
    {
     "name": "stderr",
     "output_type": "stream",
     "text": [
      "Computing gradient: 100%|██████████| 2/2 [00:00<00:00,  9.25it/s]\n",
      "Computing gradient: 100%|██████████| 2/2 [00:00<00:00,  8.60it/s]\n",
      "Computing gradient: 100%|██████████| 2/2 [00:00<00:00, 11.35it/s]\n",
      "Computing gradient: 100%|██████████| 2/2 [00:00<00:00,  8.53it/s]\n",
      "Computing forward impact: 100%|██████████| 512/512 [00:00<00:00, 165330.95it/s]\n",
      "Computing forward impact: 100%|██████████| 512/512 [00:00<00:00, 453534.03it/s]\n",
      "Computing forward impact: 100%|██████████| 512/512 [00:00<00:00, 1207808.58it/s]\n",
      "Collecting objectives for pareto-front: 100%|██████████| 512/512 [00:00<00:00, 2654491.53it/s]\n",
      "Identifying pareto-front: 100%|██████████| 512/512 [00:00<00:00, 34541.01it/s]\n",
      "Extracting pareto-front: 100%|██████████| 512/512 [00:00<00:00, 403131.90it/s]\n"
     ]
    },
    {
     "name": "stdout",
     "output_type": "stream",
     "text": [
      "=================\n",
      "Localize results\n",
      "created files:\n",
      "     ../nii_dataset/experiments/eAI-fair-aware-mixed/LFW/Exp-repair-vgg16-v1/results-0-None/5/FPR/localized_data_7/weights.csv\n",
      "=================\n"
     ]
    },
    {
     "name": "stderr",
     "output_type": "stream",
     "text": [
      "Initializing particles: 100%|██████████| 15/15 [00:00<00:00, 1078.21it/s]\n",
      "Computing velocity bounds: 100%|██████████| 21/21 [00:00<00:00, 378.87it/s]\n",
      "Initializing particle's scores: 100%|██████████| 100/100 [00:39<00:00,  2.56it/s]\n",
      "Updating particle positions (it=1/100): 100%|██████████| 100/100 [00:38<00:00,  2.63it/s]\n",
      "Updating particle positions (it=2/100): 100%|██████████| 100/100 [00:39<00:00,  2.55it/s]\n",
      "Updating particle positions (it=3/100): 100%|██████████| 100/100 [00:40<00:00,  2.50it/s]\n",
      "Updating particle positions (it=4/100): 100%|██████████| 100/100 [00:40<00:00,  2.49it/s]\n",
      "Updating particle positions (it=5/100): 100%|██████████| 100/100 [00:39<00:00,  2.54it/s]\n",
      "Updating particle positions (it=6/100): 100%|██████████| 100/100 [00:38<00:00,  2.57it/s]\n",
      "Updating particle positions (it=7/100): 100%|██████████| 100/100 [00:39<00:00,  2.51it/s]\n",
      "Updating particle positions (it=8/100): 100%|██████████| 100/100 [00:40<00:00,  2.46it/s]\n",
      "Updating particle positions (it=9/100): 100%|██████████| 100/100 [00:40<00:00,  2.48it/s]\n",
      "Updating particle positions (it=10/100): 100%|██████████| 100/100 [00:38<00:00,  2.58it/s]\n",
      "Updating particle positions (it=11/100): 100%|██████████| 100/100 [00:41<00:00,  2.42it/s]\n",
      "Updating particle positions (it=12/100): 100%|██████████| 100/100 [00:40<00:00,  2.46it/s]\n"
     ]
    },
    {
     "name": "stdout",
     "output_type": "stream",
     "text": [
      "INFO:tensorflow:Assets written to: ../nii_dataset/experiments/eAI-fair-aware-mixed/LFW/Exp-repair-vgg16-v1/results-0-None/5/FPR/repaired_model_7/repair/assets\n"
     ]
    },
    {
     "name": "stderr",
     "output_type": "stream",
     "text": [
      "INFO:tensorflow:Assets written to: ../nii_dataset/experiments/eAI-fair-aware-mixed/LFW/Exp-repair-vgg16-v1/results-0-None/5/FPR/repaired_model_7/repair/assets\n"
     ]
    },
    {
     "name": "stdout",
     "output_type": "stream",
     "text": [
      "=================\n",
      "Optimize results\n",
      "created files:\n",
      "     ../nii_dataset/experiments/eAI-fair-aware-mixed/LFW/Exp-repair-vgg16-v1/results-0-None/5/FPR/repaired_model_7/weights.csv\n",
      "     ../nii_dataset/experiments/eAI-fair-aware-mixed/LFW/Exp-repair-vgg16-v1/results-0-None/5/FPR/localized_data_7/weights.csv\n",
      "=================\n",
      "8 model path:  ../nii_dataset/training/LFW/VGG-Gender.h5\n",
      "(504, 32, 32, 3) None None\n"
     ]
    },
    {
     "name": "stderr",
     "output_type": "stream",
     "text": [
      "Computing gradient: 100%|██████████| 2/2 [00:00<00:00, 10.11it/s]\n",
      "Computing gradient: 100%|██████████| 2/2 [00:00<00:00,  8.39it/s]\n",
      "Computing gradient: 100%|██████████| 2/2 [00:00<00:00, 11.32it/s]\n",
      "Computing gradient: 100%|██████████| 2/2 [00:00<00:00,  8.29it/s]\n",
      "Computing forward impact: 100%|██████████| 512/512 [00:00<00:00, 485307.04it/s]\n",
      "Computing forward impact: 100%|██████████| 512/512 [00:00<00:00, 577125.41it/s]\n",
      "Computing forward impact: 100%|██████████| 512/512 [00:00<00:00, 1347229.39it/s]\n",
      "Collecting objectives for pareto-front: 100%|██████████| 512/512 [00:00<00:00, 2596715.41it/s]\n",
      "Identifying pareto-front: 100%|██████████| 512/512 [00:00<00:00, 38676.67it/s]\n",
      "Extracting pareto-front: 100%|██████████| 512/512 [00:00<00:00, 396360.95it/s]\n"
     ]
    },
    {
     "name": "stdout",
     "output_type": "stream",
     "text": [
      "=================\n",
      "Localize results\n",
      "created files:\n",
      "     ../nii_dataset/experiments/eAI-fair-aware-mixed/LFW/Exp-repair-vgg16-v1/results-0-None/5/FPR/localized_data_8/weights.csv\n",
      "=================\n"
     ]
    },
    {
     "name": "stderr",
     "output_type": "stream",
     "text": [
      "Initializing particles: 100%|██████████| 16/16 [00:00<00:00, 1048.15it/s]\n",
      "Computing velocity bounds: 100%|██████████| 21/21 [00:00<00:00, 347.26it/s]\n",
      "Initializing particle's scores: 100%|██████████| 100/100 [00:39<00:00,  2.50it/s]\n",
      "Updating particle positions (it=1/100): 100%|██████████| 100/100 [00:39<00:00,  2.54it/s]\n",
      "Updating particle positions (it=2/100): 100%|██████████| 100/100 [00:39<00:00,  2.50it/s]\n",
      "Updating particle positions (it=3/100): 100%|██████████| 100/100 [00:40<00:00,  2.49it/s]\n",
      "Updating particle positions (it=4/100): 100%|██████████| 100/100 [00:38<00:00,  2.57it/s]\n",
      "Updating particle positions (it=5/100): 100%|██████████| 100/100 [00:34<00:00,  2.89it/s]\n",
      "Updating particle positions (it=6/100): 100%|██████████| 100/100 [00:34<00:00,  2.89it/s]\n",
      "Updating particle positions (it=7/100): 100%|██████████| 100/100 [00:35<00:00,  2.85it/s]\n",
      "Updating particle positions (it=8/100): 100%|██████████| 100/100 [00:35<00:00,  2.83it/s]\n",
      "Updating particle positions (it=9/100): 100%|██████████| 100/100 [00:35<00:00,  2.82it/s]\n",
      "Updating particle positions (it=10/100): 100%|██████████| 100/100 [00:35<00:00,  2.85it/s]\n",
      "Updating particle positions (it=11/100): 100%|██████████| 100/100 [00:34<00:00,  2.87it/s]\n",
      "Updating particle positions (it=12/100): 100%|██████████| 100/100 [00:35<00:00,  2.83it/s]\n"
     ]
    },
    {
     "name": "stdout",
     "output_type": "stream",
     "text": [
      "INFO:tensorflow:Assets written to: ../nii_dataset/experiments/eAI-fair-aware-mixed/LFW/Exp-repair-vgg16-v1/results-0-None/5/FPR/repaired_model_8/repair/assets\n"
     ]
    },
    {
     "name": "stderr",
     "output_type": "stream",
     "text": [
      "INFO:tensorflow:Assets written to: ../nii_dataset/experiments/eAI-fair-aware-mixed/LFW/Exp-repair-vgg16-v1/results-0-None/5/FPR/repaired_model_8/repair/assets\n"
     ]
    },
    {
     "name": "stdout",
     "output_type": "stream",
     "text": [
      "=================\n",
      "Optimize results\n",
      "created files:\n",
      "     ../nii_dataset/experiments/eAI-fair-aware-mixed/LFW/Exp-repair-vgg16-v1/results-0-None/5/FPR/repaired_model_8/weights.csv\n",
      "     ../nii_dataset/experiments/eAI-fair-aware-mixed/LFW/Exp-repair-vgg16-v1/results-0-None/5/FPR/localized_data_8/weights.csv\n",
      "=================\n",
      "9 model path:  ../nii_dataset/training/LFW/VGG-Gender.h5\n",
      "(504, 32, 32, 3) None None\n"
     ]
    },
    {
     "name": "stderr",
     "output_type": "stream",
     "text": [
      "Computing gradient: 100%|██████████| 2/2 [00:00<00:00,  8.69it/s]\n",
      "Computing gradient: 100%|██████████| 2/2 [00:00<00:00,  7.66it/s]\n",
      "Computing gradient: 100%|██████████| 2/2 [00:00<00:00, 12.10it/s]\n",
      "Computing gradient: 100%|██████████| 2/2 [00:00<00:00,  7.68it/s]\n",
      "Computing forward impact: 100%|██████████| 512/512 [00:00<00:00, 483885.45it/s]\n",
      "Computing forward impact: 100%|██████████| 512/512 [00:00<00:00, 644696.38it/s]\n",
      "Computing forward impact: 100%|██████████| 512/512 [00:00<00:00, 1093980.46it/s]\n",
      "Collecting objectives for pareto-front: 100%|██████████| 512/512 [00:00<00:00, 3969470.70it/s]\n",
      "Identifying pareto-front: 100%|██████████| 512/512 [00:00<00:00, 38905.80it/s]\n",
      "Extracting pareto-front: 100%|██████████| 512/512 [00:00<00:00, 360316.05it/s]\n"
     ]
    },
    {
     "name": "stdout",
     "output_type": "stream",
     "text": [
      "=================\n",
      "Localize results\n",
      "created files:\n",
      "     ../nii_dataset/experiments/eAI-fair-aware-mixed/LFW/Exp-repair-vgg16-v1/results-0-None/5/FPR/localized_data_9/weights.csv\n",
      "=================\n"
     ]
    },
    {
     "name": "stderr",
     "output_type": "stream",
     "text": [
      "Initializing particles: 100%|██████████| 18/18 [00:00<00:00, 1146.80it/s]\n",
      "Computing velocity bounds: 100%|██████████| 21/21 [00:00<00:00, 413.38it/s]\n",
      "Initializing particle's scores: 100%|██████████| 100/100 [00:35<00:00,  2.79it/s]\n",
      "Updating particle positions (it=1/100): 100%|██████████| 100/100 [00:35<00:00,  2.80it/s]\n",
      "Updating particle positions (it=2/100): 100%|██████████| 100/100 [00:34<00:00,  2.86it/s]\n",
      "Updating particle positions (it=3/100): 100%|██████████| 100/100 [00:35<00:00,  2.84it/s]\n",
      "Updating particle positions (it=4/100): 100%|██████████| 100/100 [00:35<00:00,  2.83it/s]\n",
      "Updating particle positions (it=5/100): 100%|██████████| 100/100 [00:35<00:00,  2.82it/s]\n",
      "Updating particle positions (it=6/100): 100%|██████████| 100/100 [00:35<00:00,  2.82it/s]\n",
      "Updating particle positions (it=7/100): 100%|██████████| 100/100 [00:35<00:00,  2.85it/s]\n",
      "Updating particle positions (it=8/100): 100%|██████████| 100/100 [00:34<00:00,  2.86it/s]\n",
      "Updating particle positions (it=9/100): 100%|██████████| 100/100 [00:35<00:00,  2.84it/s]\n",
      "Updating particle positions (it=10/100): 100%|██████████| 100/100 [00:35<00:00,  2.82it/s]\n",
      "Updating particle positions (it=11/100): 100%|██████████| 100/100 [00:35<00:00,  2.80it/s]\n",
      "Updating particle positions (it=12/100): 100%|██████████| 100/100 [00:35<00:00,  2.81it/s]\n"
     ]
    },
    {
     "name": "stdout",
     "output_type": "stream",
     "text": [
      "INFO:tensorflow:Assets written to: ../nii_dataset/experiments/eAI-fair-aware-mixed/LFW/Exp-repair-vgg16-v1/results-0-None/5/FPR/repaired_model_9/repair/assets\n"
     ]
    },
    {
     "name": "stderr",
     "output_type": "stream",
     "text": [
      "INFO:tensorflow:Assets written to: ../nii_dataset/experiments/eAI-fair-aware-mixed/LFW/Exp-repair-vgg16-v1/results-0-None/5/FPR/repaired_model_9/repair/assets\n"
     ]
    },
    {
     "name": "stdout",
     "output_type": "stream",
     "text": [
      "=================\n",
      "Optimize results\n",
      "created files:\n",
      "     ../nii_dataset/experiments/eAI-fair-aware-mixed/LFW/Exp-repair-vgg16-v1/results-0-None/5/FPR/repaired_model_9/weights.csv\n",
      "     ../nii_dataset/experiments/eAI-fair-aware-mixed/LFW/Exp-repair-vgg16-v1/results-0-None/5/FPR/localized_data_9/weights.csv\n",
      "=================\n",
      "10 model path:  ../nii_dataset/training/LFW/VGG-Gender.h5\n",
      "(504, 32, 32, 3) None None\n"
     ]
    },
    {
     "name": "stderr",
     "output_type": "stream",
     "text": [
      "Computing gradient: 100%|██████████| 2/2 [00:00<00:00,  9.59it/s]\n",
      "Computing gradient: 100%|██████████| 2/2 [00:00<00:00,  8.09it/s]\n",
      "Computing gradient: 100%|██████████| 2/2 [00:00<00:00, 11.58it/s]\n",
      "Computing gradient: 100%|██████████| 2/2 [00:00<00:00,  7.82it/s]\n",
      "Computing forward impact: 100%|██████████| 512/512 [00:00<00:00, 534332.83it/s]\n",
      "Computing forward impact: 100%|██████████| 512/512 [00:00<00:00, 180142.91it/s]\n",
      "Computing forward impact: 100%|██████████| 512/512 [00:00<00:00, 1497547.87it/s]\n",
      "Collecting objectives for pareto-front: 100%|██████████| 512/512 [00:00<00:00, 3969470.70it/s]\n",
      "Identifying pareto-front: 100%|██████████| 512/512 [00:00<00:00, 39597.36it/s]\n",
      "Extracting pareto-front: 100%|██████████| 512/512 [00:00<00:00, 388825.57it/s]\n"
     ]
    },
    {
     "name": "stdout",
     "output_type": "stream",
     "text": [
      "=================\n",
      "Localize results\n",
      "created files:\n",
      "     ../nii_dataset/experiments/eAI-fair-aware-mixed/LFW/Exp-repair-vgg16-v1/results-0-None/5/FPR/localized_data_10/weights.csv\n",
      "=================\n"
     ]
    },
    {
     "name": "stderr",
     "output_type": "stream",
     "text": [
      "Initializing particles: 100%|██████████| 17/17 [00:00<00:00, 1212.45it/s]\n",
      "Computing velocity bounds: 100%|██████████| 21/21 [00:00<00:00, 469.97it/s]\n",
      "Initializing particle's scores: 100%|██████████| 100/100 [00:35<00:00,  2.84it/s]\n",
      "Updating particle positions (it=1/100): 100%|██████████| 100/100 [00:35<00:00,  2.83it/s]\n",
      "Updating particle positions (it=2/100): 100%|██████████| 100/100 [00:35<00:00,  2.81it/s]\n",
      "Updating particle positions (it=3/100): 100%|██████████| 100/100 [00:36<00:00,  2.77it/s]\n",
      "Updating particle positions (it=4/100): 100%|██████████| 100/100 [00:35<00:00,  2.85it/s]\n",
      "Updating particle positions (it=5/100): 100%|██████████| 100/100 [00:35<00:00,  2.82it/s]\n",
      "Updating particle positions (it=6/100): 100%|██████████| 100/100 [00:35<00:00,  2.81it/s]\n",
      "Updating particle positions (it=7/100): 100%|██████████| 100/100 [00:35<00:00,  2.80it/s]\n",
      "Updating particle positions (it=8/100): 100%|██████████| 100/100 [00:37<00:00,  2.69it/s]\n",
      "Updating particle positions (it=9/100): 100%|██████████| 100/100 [00:40<00:00,  2.49it/s]\n",
      "Updating particle positions (it=10/100): 100%|██████████| 100/100 [00:40<00:00,  2.49it/s]\n",
      "Updating particle positions (it=11/100): 100%|██████████| 100/100 [00:40<00:00,  2.47it/s]\n",
      "Updating particle positions (it=12/100): 100%|██████████| 100/100 [00:40<00:00,  2.48it/s]\n"
     ]
    },
    {
     "name": "stdout",
     "output_type": "stream",
     "text": [
      "INFO:tensorflow:Assets written to: ../nii_dataset/experiments/eAI-fair-aware-mixed/LFW/Exp-repair-vgg16-v1/results-0-None/5/FPR/repaired_model_10/repair/assets\n"
     ]
    },
    {
     "name": "stderr",
     "output_type": "stream",
     "text": [
      "INFO:tensorflow:Assets written to: ../nii_dataset/experiments/eAI-fair-aware-mixed/LFW/Exp-repair-vgg16-v1/results-0-None/5/FPR/repaired_model_10/repair/assets\n"
     ]
    },
    {
     "name": "stdout",
     "output_type": "stream",
     "text": [
      "=================\n",
      "Optimize results\n",
      "created files:\n",
      "     ../nii_dataset/experiments/eAI-fair-aware-mixed/LFW/Exp-repair-vgg16-v1/results-0-None/5/FPR/repaired_model_10/weights.csv\n",
      "     ../nii_dataset/experiments/eAI-fair-aware-mixed/LFW/Exp-repair-vgg16-v1/results-0-None/5/FPR/localized_data_10/weights.csv\n",
      "=================\n",
      "11 model path:  ../nii_dataset/training/LFW/VGG-Gender.h5\n",
      "(504, 32, 32, 3) None None\n"
     ]
    },
    {
     "name": "stderr",
     "output_type": "stream",
     "text": [
      "Computing gradient: 100%|██████████| 2/2 [00:00<00:00,  8.86it/s]\n",
      "Computing gradient: 100%|██████████| 2/2 [00:00<00:00,  8.32it/s]\n",
      "Computing gradient: 100%|██████████| 2/2 [00:00<00:00, 11.81it/s]\n",
      "Computing gradient: 100%|██████████| 2/2 [00:00<00:00,  8.24it/s]\n",
      "Computing forward impact: 100%|██████████| 512/512 [00:00<00:00, 594048.04it/s]\n",
      "Computing forward impact: 100%|██████████| 512/512 [00:00<00:00, 545877.90it/s]\n",
      "Computing forward impact: 100%|██████████| 512/512 [00:00<00:00, 1221549.29it/s]\n",
      "Collecting objectives for pareto-front: 100%|██████████| 512/512 [00:00<00:00, 3734754.17it/s]\n",
      "Identifying pareto-front: 100%|██████████| 512/512 [00:00<00:00, 35509.10it/s]\n",
      "Extracting pareto-front: 100%|██████████| 512/512 [00:00<00:00, 330942.16it/s]\n"
     ]
    },
    {
     "name": "stdout",
     "output_type": "stream",
     "text": [
      "=================\n",
      "Localize results\n",
      "created files:\n",
      "     ../nii_dataset/experiments/eAI-fair-aware-mixed/LFW/Exp-repair-vgg16-v1/results-0-None/5/FPR/localized_data_11/weights.csv\n",
      "=================\n"
     ]
    },
    {
     "name": "stderr",
     "output_type": "stream",
     "text": [
      "Initializing particles: 100%|██████████| 19/19 [00:00<00:00, 1137.53it/s]\n",
      "Computing velocity bounds: 100%|██████████| 21/21 [00:00<00:00, 406.65it/s]\n",
      "Initializing particle's scores: 100%|██████████| 100/100 [00:38<00:00,  2.58it/s]\n",
      "Updating particle positions (it=1/100): 100%|██████████| 100/100 [00:39<00:00,  2.50it/s]\n",
      "Updating particle positions (it=2/100): 100%|██████████| 100/100 [00:39<00:00,  2.53it/s]\n",
      "Updating particle positions (it=3/100): 100%|██████████| 100/100 [00:40<00:00,  2.50it/s]\n",
      "Updating particle positions (it=4/100): 100%|██████████| 100/100 [00:39<00:00,  2.51it/s]\n",
      "Updating particle positions (it=5/100): 100%|██████████| 100/100 [00:39<00:00,  2.54it/s]\n",
      "Updating particle positions (it=6/100): 100%|██████████| 100/100 [00:42<00:00,  2.35it/s]\n",
      "Updating particle positions (it=7/100): 100%|██████████| 100/100 [00:40<00:00,  2.48it/s]\n",
      "Updating particle positions (it=8/100): 100%|██████████| 100/100 [00:39<00:00,  2.55it/s]\n",
      "Updating particle positions (it=9/100): 100%|██████████| 100/100 [00:38<00:00,  2.60it/s]\n",
      "Updating particle positions (it=10/100): 100%|██████████| 100/100 [00:42<00:00,  2.34it/s]\n",
      "Updating particle positions (it=11/100): 100%|██████████| 100/100 [00:38<00:00,  2.62it/s]\n",
      "Updating particle positions (it=12/100): 100%|██████████| 100/100 [00:37<00:00,  2.68it/s]\n"
     ]
    },
    {
     "name": "stdout",
     "output_type": "stream",
     "text": [
      "INFO:tensorflow:Assets written to: ../nii_dataset/experiments/eAI-fair-aware-mixed/LFW/Exp-repair-vgg16-v1/results-0-None/5/FPR/repaired_model_11/repair/assets\n"
     ]
    },
    {
     "name": "stderr",
     "output_type": "stream",
     "text": [
      "INFO:tensorflow:Assets written to: ../nii_dataset/experiments/eAI-fair-aware-mixed/LFW/Exp-repair-vgg16-v1/results-0-None/5/FPR/repaired_model_11/repair/assets\n"
     ]
    },
    {
     "name": "stdout",
     "output_type": "stream",
     "text": [
      "=================\n",
      "Optimize results\n",
      "created files:\n",
      "     ../nii_dataset/experiments/eAI-fair-aware-mixed/LFW/Exp-repair-vgg16-v1/results-0-None/5/FPR/repaired_model_11/weights.csv\n",
      "     ../nii_dataset/experiments/eAI-fair-aware-mixed/LFW/Exp-repair-vgg16-v1/results-0-None/5/FPR/localized_data_11/weights.csv\n",
      "=================\n",
      "12 model path:  ../nii_dataset/training/LFW/VGG-Gender.h5\n",
      "(504, 32, 32, 3) None None\n"
     ]
    },
    {
     "name": "stderr",
     "output_type": "stream",
     "text": [
      "Computing gradient: 100%|██████████| 2/2 [00:00<00:00,  8.51it/s]\n",
      "Computing gradient: 100%|██████████| 2/2 [00:00<00:00,  9.28it/s]\n",
      "Computing gradient: 100%|██████████| 2/2 [00:00<00:00, 11.60it/s]\n",
      "Computing gradient: 100%|██████████| 2/2 [00:00<00:00,  8.80it/s]\n",
      "Computing forward impact: 100%|██████████| 512/512 [00:00<00:00, 540655.50it/s]\n",
      "Computing forward impact: 100%|██████████| 512/512 [00:00<00:00, 627552.21it/s]\n",
      "Computing forward impact: 100%|██████████| 512/512 [00:00<00:00, 935722.72it/s]\n",
      "Collecting objectives for pareto-front: 100%|██████████| 512/512 [00:00<00:00, 4098251.24it/s]\n",
      "Identifying pareto-front: 100%|██████████| 512/512 [00:00<00:00, 38453.67it/s]\n",
      "Extracting pareto-front: 100%|██████████| 512/512 [00:00<00:00, 420745.23it/s]\n"
     ]
    },
    {
     "name": "stdout",
     "output_type": "stream",
     "text": [
      "=================\n",
      "Localize results\n",
      "created files:\n",
      "     ../nii_dataset/experiments/eAI-fair-aware-mixed/LFW/Exp-repair-vgg16-v1/results-0-None/5/FPR/localized_data_12/weights.csv\n",
      "=================\n"
     ]
    },
    {
     "name": "stderr",
     "output_type": "stream",
     "text": [
      "Initializing particles: 100%|██████████| 15/15 [00:00<00:00, 1030.73it/s]\n",
      "Computing velocity bounds: 100%|██████████| 21/21 [00:00<00:00, 421.56it/s]\n",
      "Initializing particle's scores: 100%|██████████| 100/100 [00:39<00:00,  2.51it/s]\n",
      "Updating particle positions (it=1/100): 100%|██████████| 100/100 [00:41<00:00,  2.43it/s]\n",
      "Updating particle positions (it=2/100): 100%|██████████| 100/100 [00:40<00:00,  2.46it/s]\n",
      "Updating particle positions (it=3/100): 100%|██████████| 100/100 [00:39<00:00,  2.52it/s]\n",
      "Updating particle positions (it=4/100): 100%|██████████| 100/100 [00:39<00:00,  2.53it/s]\n",
      "Updating particle positions (it=5/100): 100%|██████████| 100/100 [00:39<00:00,  2.52it/s]\n",
      "Updating particle positions (it=6/100): 100%|██████████| 100/100 [00:40<00:00,  2.47it/s]\n",
      "Updating particle positions (it=7/100): 100%|██████████| 100/100 [00:39<00:00,  2.53it/s]\n",
      "Updating particle positions (it=8/100): 100%|██████████| 100/100 [00:38<00:00,  2.59it/s]\n",
      "Updating particle positions (it=9/100): 100%|██████████| 100/100 [00:40<00:00,  2.50it/s]\n",
      "Updating particle positions (it=10/100): 100%|██████████| 100/100 [00:40<00:00,  2.46it/s]\n",
      "Updating particle positions (it=11/100): 100%|██████████| 100/100 [00:40<00:00,  2.46it/s]\n",
      "Updating particle positions (it=12/100): 100%|██████████| 100/100 [00:40<00:00,  2.48it/s]\n"
     ]
    },
    {
     "name": "stdout",
     "output_type": "stream",
     "text": [
      "INFO:tensorflow:Assets written to: ../nii_dataset/experiments/eAI-fair-aware-mixed/LFW/Exp-repair-vgg16-v1/results-0-None/5/FPR/repaired_model_12/repair/assets\n"
     ]
    },
    {
     "name": "stderr",
     "output_type": "stream",
     "text": [
      "INFO:tensorflow:Assets written to: ../nii_dataset/experiments/eAI-fair-aware-mixed/LFW/Exp-repair-vgg16-v1/results-0-None/5/FPR/repaired_model_12/repair/assets\n"
     ]
    },
    {
     "name": "stdout",
     "output_type": "stream",
     "text": [
      "=================\n",
      "Optimize results\n",
      "created files:\n",
      "     ../nii_dataset/experiments/eAI-fair-aware-mixed/LFW/Exp-repair-vgg16-v1/results-0-None/5/FPR/repaired_model_12/weights.csv\n",
      "     ../nii_dataset/experiments/eAI-fair-aware-mixed/LFW/Exp-repair-vgg16-v1/results-0-None/5/FPR/localized_data_12/weights.csv\n",
      "=================\n",
      "13 model path:  ../nii_dataset/training/LFW/VGG-Gender.h5\n",
      "(504, 32, 32, 3) None None\n"
     ]
    },
    {
     "name": "stderr",
     "output_type": "stream",
     "text": [
      "Computing gradient: 100%|██████████| 2/2 [00:00<00:00,  8.74it/s]\n",
      "Computing gradient: 100%|██████████| 2/2 [00:00<00:00,  8.56it/s]\n",
      "Computing gradient: 100%|██████████| 2/2 [00:00<00:00, 12.04it/s]\n",
      "Computing gradient: 100%|██████████| 2/2 [00:00<00:00,  7.97it/s]\n",
      "Computing forward impact: 100%|██████████| 512/512 [00:00<00:00, 509969.99it/s]\n",
      "Computing forward impact: 100%|██████████| 512/512 [00:00<00:00, 560847.13it/s]\n",
      "Computing forward impact: 100%|██████████| 512/512 [00:00<00:00, 1474920.09it/s]\n",
      "Collecting objectives for pareto-front: 100%|██████████| 512/512 [00:00<00:00, 4269351.19it/s]\n",
      "Identifying pareto-front: 100%|██████████| 512/512 [00:00<00:00, 39628.05it/s]\n",
      "Extracting pareto-front: 100%|██████████| 512/512 [00:00<00:00, 390238.71it/s]\n"
     ]
    },
    {
     "name": "stdout",
     "output_type": "stream",
     "text": [
      "=================\n",
      "Localize results\n",
      "created files:\n",
      "     ../nii_dataset/experiments/eAI-fair-aware-mixed/LFW/Exp-repair-vgg16-v1/results-0-None/5/FPR/localized_data_13/weights.csv\n",
      "=================\n"
     ]
    },
    {
     "name": "stderr",
     "output_type": "stream",
     "text": [
      "Initializing particles: 100%|██████████| 15/15 [00:00<00:00, 1181.87it/s]\n",
      "Computing velocity bounds: 100%|██████████| 21/21 [00:00<00:00, 391.14it/s]\n",
      "Initializing particle's scores: 100%|██████████| 100/100 [00:39<00:00,  2.53it/s]\n",
      "Updating particle positions (it=1/100): 100%|██████████| 100/100 [00:40<00:00,  2.47it/s]\n",
      "Updating particle positions (it=2/100): 100%|██████████| 100/100 [00:40<00:00,  2.48it/s]\n",
      "Updating particle positions (it=3/100): 100%|██████████| 100/100 [00:39<00:00,  2.56it/s]\n",
      "Updating particle positions (it=4/100): 100%|██████████| 100/100 [00:40<00:00,  2.49it/s]\n",
      "Updating particle positions (it=5/100): 100%|██████████| 100/100 [00:41<00:00,  2.41it/s]\n",
      "Updating particle positions (it=6/100): 100%|██████████| 100/100 [00:35<00:00,  2.79it/s]\n",
      "Updating particle positions (it=7/100): 100%|██████████| 100/100 [00:35<00:00,  2.81it/s]\n",
      "Updating particle positions (it=8/100): 100%|██████████| 100/100 [00:35<00:00,  2.85it/s]\n",
      "Updating particle positions (it=9/100): 100%|██████████| 100/100 [00:34<00:00,  2.89it/s]\n",
      "Updating particle positions (it=10/100): 100%|██████████| 100/100 [00:35<00:00,  2.84it/s]\n",
      "Updating particle positions (it=11/100): 100%|██████████| 100/100 [00:35<00:00,  2.81it/s]\n",
      "Updating particle positions (it=12/100): 100%|██████████| 100/100 [00:35<00:00,  2.82it/s]\n"
     ]
    },
    {
     "name": "stdout",
     "output_type": "stream",
     "text": [
      "INFO:tensorflow:Assets written to: ../nii_dataset/experiments/eAI-fair-aware-mixed/LFW/Exp-repair-vgg16-v1/results-0-None/5/FPR/repaired_model_13/repair/assets\n"
     ]
    },
    {
     "name": "stderr",
     "output_type": "stream",
     "text": [
      "INFO:tensorflow:Assets written to: ../nii_dataset/experiments/eAI-fair-aware-mixed/LFW/Exp-repair-vgg16-v1/results-0-None/5/FPR/repaired_model_13/repair/assets\n"
     ]
    },
    {
     "name": "stdout",
     "output_type": "stream",
     "text": [
      "=================\n",
      "Optimize results\n",
      "created files:\n",
      "     ../nii_dataset/experiments/eAI-fair-aware-mixed/LFW/Exp-repair-vgg16-v1/results-0-None/5/FPR/repaired_model_13/weights.csv\n",
      "     ../nii_dataset/experiments/eAI-fair-aware-mixed/LFW/Exp-repair-vgg16-v1/results-0-None/5/FPR/localized_data_13/weights.csv\n",
      "=================\n",
      "14 model path:  ../nii_dataset/training/LFW/VGG-Gender.h5\n",
      "(504, 32, 32, 3) None None\n"
     ]
    },
    {
     "name": "stderr",
     "output_type": "stream",
     "text": [
      "Computing gradient: 100%|██████████| 2/2 [00:00<00:00,  9.24it/s]\n",
      "Computing gradient: 100%|██████████| 2/2 [00:00<00:00,  8.19it/s]\n",
      "Computing gradient: 100%|██████████| 2/2 [00:00<00:00, 11.28it/s]\n",
      "Computing gradient: 100%|██████████| 2/2 [00:00<00:00,  7.70it/s]\n",
      "Computing forward impact: 100%|██████████| 512/512 [00:00<00:00, 536736.73it/s]\n",
      "Computing forward impact: 100%|██████████| 512/512 [00:00<00:00, 424236.20it/s]\n",
      "Computing forward impact: 100%|██████████| 512/512 [00:00<00:00, 1031947.93it/s]\n",
      "Collecting objectives for pareto-front: 100%|██████████| 512/512 [00:00<00:00, 3139595.98it/s]\n",
      "Identifying pareto-front: 100%|██████████| 512/512 [00:00<00:00, 34036.26it/s]\n",
      "Extracting pareto-front: 100%|██████████| 512/512 [00:00<00:00, 377878.52it/s]\n"
     ]
    },
    {
     "name": "stdout",
     "output_type": "stream",
     "text": [
      "=================\n",
      "Localize results\n",
      "created files:\n",
      "     ../nii_dataset/experiments/eAI-fair-aware-mixed/LFW/Exp-repair-vgg16-v1/results-0-None/5/FPR/localized_data_14/weights.csv\n",
      "=================\n"
     ]
    },
    {
     "name": "stderr",
     "output_type": "stream",
     "text": [
      "Initializing particles: 100%|██████████| 17/17 [00:00<00:00, 1269.89it/s]\n",
      "Computing velocity bounds: 100%|██████████| 21/21 [00:00<00:00, 447.99it/s]\n",
      "Initializing particle's scores: 100%|██████████| 100/100 [00:36<00:00,  2.78it/s]\n",
      "Updating particle positions (it=1/100): 100%|██████████| 100/100 [00:35<00:00,  2.84it/s]\n",
      "Updating particle positions (it=2/100): 100%|██████████| 100/100 [00:35<00:00,  2.82it/s]\n",
      "Updating particle positions (it=3/100): 100%|██████████| 100/100 [00:35<00:00,  2.80it/s]\n",
      "Updating particle positions (it=4/100): 100%|██████████| 100/100 [00:35<00:00,  2.80it/s]\n",
      "Updating particle positions (it=5/100): 100%|██████████| 100/100 [00:35<00:00,  2.81it/s]\n",
      "Updating particle positions (it=6/100): 100%|██████████| 100/100 [00:35<00:00,  2.82it/s]\n",
      "Updating particle positions (it=7/100): 100%|██████████| 100/100 [00:35<00:00,  2.84it/s]\n",
      "Updating particle positions (it=8/100): 100%|██████████| 100/100 [00:35<00:00,  2.79it/s]\n",
      "Updating particle positions (it=9/100): 100%|██████████| 100/100 [00:35<00:00,  2.80it/s]\n",
      "Updating particle positions (it=10/100): 100%|██████████| 100/100 [00:36<00:00,  2.78it/s]\n",
      "Updating particle positions (it=11/100): 100%|██████████| 100/100 [00:36<00:00,  2.75it/s]\n",
      "Updating particle positions (it=12/100): 100%|██████████| 100/100 [00:35<00:00,  2.79it/s]\n"
     ]
    },
    {
     "name": "stdout",
     "output_type": "stream",
     "text": [
      "INFO:tensorflow:Assets written to: ../nii_dataset/experiments/eAI-fair-aware-mixed/LFW/Exp-repair-vgg16-v1/results-0-None/5/FPR/repaired_model_14/repair/assets\n"
     ]
    },
    {
     "name": "stderr",
     "output_type": "stream",
     "text": [
      "INFO:tensorflow:Assets written to: ../nii_dataset/experiments/eAI-fair-aware-mixed/LFW/Exp-repair-vgg16-v1/results-0-None/5/FPR/repaired_model_14/repair/assets\n"
     ]
    },
    {
     "name": "stdout",
     "output_type": "stream",
     "text": [
      "=================\n",
      "Optimize results\n",
      "created files:\n",
      "     ../nii_dataset/experiments/eAI-fair-aware-mixed/LFW/Exp-repair-vgg16-v1/results-0-None/5/FPR/localized_data_14/weights.csv\n",
      "     ../nii_dataset/experiments/eAI-fair-aware-mixed/LFW/Exp-repair-vgg16-v1/results-0-None/5/FPR/repaired_model_14/weights.csv\n",
      "=================\n",
      "15 model path:  ../nii_dataset/training/LFW/VGG-Gender.h5\n",
      "(504, 32, 32, 3) None None\n"
     ]
    },
    {
     "name": "stderr",
     "output_type": "stream",
     "text": [
      "Computing gradient: 100%|██████████| 2/2 [00:00<00:00,  8.92it/s]\n",
      "Computing gradient: 100%|██████████| 2/2 [00:00<00:00,  7.97it/s]\n",
      "Computing gradient: 100%|██████████| 2/2 [00:00<00:00, 11.49it/s]\n",
      "Computing gradient: 100%|██████████| 2/2 [00:00<00:00,  7.70it/s]\n",
      "Computing forward impact: 100%|██████████| 512/512 [00:00<00:00, 567666.84it/s]\n",
      "Computing forward impact: 100%|██████████| 512/512 [00:00<00:00, 400949.15it/s]\n",
      "Computing forward impact: 100%|██████████| 512/512 [00:00<00:00, 1343857.10it/s]\n",
      "Collecting objectives for pareto-front: 100%|██████████| 512/512 [00:00<00:00, 3767515.17it/s]\n",
      "Identifying pareto-front: 100%|██████████| 512/512 [00:00<00:00, 35657.68it/s]\n",
      "Extracting pareto-front: 100%|██████████| 512/512 [00:00<00:00, 403738.23it/s]\n"
     ]
    },
    {
     "name": "stdout",
     "output_type": "stream",
     "text": [
      "=================\n",
      "Localize results\n",
      "created files:\n",
      "     ../nii_dataset/experiments/eAI-fair-aware-mixed/LFW/Exp-repair-vgg16-v1/results-0-None/5/FPR/localized_data_15/weights.csv\n",
      "=================\n"
     ]
    },
    {
     "name": "stderr",
     "output_type": "stream",
     "text": [
      "Initializing particles: 100%|██████████| 16/16 [00:00<00:00, 1089.93it/s]\n",
      "Computing velocity bounds: 100%|██████████| 21/21 [00:00<00:00, 459.83it/s]\n",
      "Initializing particle's scores: 100%|██████████| 100/100 [00:36<00:00,  2.75it/s]\n",
      "Updating particle positions (it=1/100): 100%|██████████| 100/100 [00:35<00:00,  2.80it/s]\n",
      "Updating particle positions (it=2/100): 100%|██████████| 100/100 [00:41<00:00,  2.43it/s]\n",
      "Updating particle positions (it=3/100): 100%|██████████| 100/100 [00:41<00:00,  2.43it/s]\n",
      "Updating particle positions (it=4/100): 100%|██████████| 100/100 [01:12<00:00,  1.38it/s]\n",
      "Updating particle positions (it=5/100): 100%|██████████| 100/100 [00:41<00:00,  2.39it/s]\n",
      "Updating particle positions (it=6/100): 100%|██████████| 100/100 [00:40<00:00,  2.48it/s]\n",
      "Updating particle positions (it=7/100): 100%|██████████| 100/100 [00:40<00:00,  2.45it/s]\n",
      "Updating particle positions (it=8/100): 100%|██████████| 100/100 [00:40<00:00,  2.47it/s]\n",
      "Updating particle positions (it=9/100): 100%|██████████| 100/100 [00:39<00:00,  2.56it/s]\n",
      "Updating particle positions (it=10/100): 100%|██████████| 100/100 [00:38<00:00,  2.58it/s]\n",
      "Updating particle positions (it=11/100): 100%|██████████| 100/100 [00:39<00:00,  2.51it/s]\n",
      "Updating particle positions (it=12/100): 100%|██████████| 100/100 [00:39<00:00,  2.52it/s]\n"
     ]
    },
    {
     "name": "stdout",
     "output_type": "stream",
     "text": [
      "INFO:tensorflow:Assets written to: ../nii_dataset/experiments/eAI-fair-aware-mixed/LFW/Exp-repair-vgg16-v1/results-0-None/5/FPR/repaired_model_15/repair/assets\n"
     ]
    },
    {
     "name": "stderr",
     "output_type": "stream",
     "text": [
      "INFO:tensorflow:Assets written to: ../nii_dataset/experiments/eAI-fair-aware-mixed/LFW/Exp-repair-vgg16-v1/results-0-None/5/FPR/repaired_model_15/repair/assets\n"
     ]
    },
    {
     "name": "stdout",
     "output_type": "stream",
     "text": [
      "=================\n",
      "Optimize results\n",
      "created files:\n",
      "     ../nii_dataset/experiments/eAI-fair-aware-mixed/LFW/Exp-repair-vgg16-v1/results-0-None/5/FPR/localized_data_15/weights.csv\n",
      "     ../nii_dataset/experiments/eAI-fair-aware-mixed/LFW/Exp-repair-vgg16-v1/results-0-None/5/FPR/repaired_model_15/weights.csv\n",
      "=================\n",
      "16 model path:  ../nii_dataset/training/LFW/VGG-Gender.h5\n",
      "(504, 32, 32, 3) None None\n"
     ]
    },
    {
     "name": "stderr",
     "output_type": "stream",
     "text": [
      "Computing gradient: 100%|██████████| 2/2 [00:00<00:00,  8.12it/s]\n",
      "Computing gradient: 100%|██████████| 2/2 [00:00<00:00,  6.95it/s]\n",
      "Computing gradient: 100%|██████████| 2/2 [00:00<00:00, 10.76it/s]\n",
      "Computing gradient: 100%|██████████| 2/2 [00:00<00:00,  8.32it/s]\n",
      "Computing forward impact: 100%|██████████| 512/512 [00:00<00:00, 538351.38it/s]\n",
      "Computing forward impact: 100%|██████████| 512/512 [00:00<00:00, 381232.67it/s]\n",
      "Computing forward impact: 100%|██████████| 512/512 [00:00<00:00, 1133236.75it/s]\n",
      "Collecting objectives for pareto-front: 100%|██████████| 512/512 [00:00<00:00, 3125885.95it/s]\n",
      "Identifying pareto-front: 100%|██████████| 512/512 [00:00<00:00, 39234.19it/s]\n",
      "Extracting pareto-front: 100%|██████████| 512/512 [00:00<00:00, 356547.18it/s]\n"
     ]
    },
    {
     "name": "stdout",
     "output_type": "stream",
     "text": [
      "=================\n",
      "Localize results\n",
      "created files:\n",
      "     ../nii_dataset/experiments/eAI-fair-aware-mixed/LFW/Exp-repair-vgg16-v1/results-0-None/5/FPR/localized_data_16/weights.csv\n",
      "=================\n"
     ]
    },
    {
     "name": "stderr",
     "output_type": "stream",
     "text": [
      "Initializing particles: 100%|██████████| 16/16 [00:00<00:00, 928.93it/s]\n",
      "Computing velocity bounds: 100%|██████████| 21/21 [00:00<00:00, 349.82it/s]\n",
      "Initializing particle's scores: 100%|██████████| 100/100 [00:40<00:00,  2.50it/s]\n",
      "Updating particle positions (it=1/100): 100%|██████████| 100/100 [00:39<00:00,  2.54it/s]\n",
      "Updating particle positions (it=2/100): 100%|██████████| 100/100 [00:39<00:00,  2.51it/s]\n",
      "Updating particle positions (it=3/100): 100%|██████████| 100/100 [00:39<00:00,  2.52it/s]\n",
      "Updating particle positions (it=4/100): 100%|██████████| 100/100 [00:40<00:00,  2.49it/s]\n",
      "Updating particle positions (it=5/100): 100%|██████████| 100/100 [00:39<00:00,  2.54it/s]\n",
      "Updating particle positions (it=6/100): 100%|██████████| 100/100 [00:39<00:00,  2.53it/s]\n",
      "Updating particle positions (it=7/100): 100%|██████████| 100/100 [00:39<00:00,  2.53it/s]\n",
      "Updating particle positions (it=8/100): 100%|██████████| 100/100 [00:40<00:00,  2.49it/s]\n",
      "Updating particle positions (it=9/100): 100%|██████████| 100/100 [00:41<00:00,  2.42it/s]\n",
      "Updating particle positions (it=10/100): 100%|██████████| 100/100 [00:38<00:00,  2.62it/s]\n",
      "Updating particle positions (it=11/100): 100%|██████████| 100/100 [00:41<00:00,  2.44it/s]\n",
      "Updating particle positions (it=12/100): 100%|██████████| 100/100 [00:40<00:00,  2.46it/s]\n"
     ]
    },
    {
     "name": "stdout",
     "output_type": "stream",
     "text": [
      "INFO:tensorflow:Assets written to: ../nii_dataset/experiments/eAI-fair-aware-mixed/LFW/Exp-repair-vgg16-v1/results-0-None/5/FPR/repaired_model_16/repair/assets\n"
     ]
    },
    {
     "name": "stderr",
     "output_type": "stream",
     "text": [
      "INFO:tensorflow:Assets written to: ../nii_dataset/experiments/eAI-fair-aware-mixed/LFW/Exp-repair-vgg16-v1/results-0-None/5/FPR/repaired_model_16/repair/assets\n"
     ]
    },
    {
     "name": "stdout",
     "output_type": "stream",
     "text": [
      "=================\n",
      "Optimize results\n",
      "created files:\n",
      "     ../nii_dataset/experiments/eAI-fair-aware-mixed/LFW/Exp-repair-vgg16-v1/results-0-None/5/FPR/localized_data_16/weights.csv\n",
      "     ../nii_dataset/experiments/eAI-fair-aware-mixed/LFW/Exp-repair-vgg16-v1/results-0-None/5/FPR/repaired_model_16/weights.csv\n",
      "=================\n",
      "17 model path:  ../nii_dataset/training/LFW/VGG-Gender.h5\n",
      "(504, 32, 32, 3) None None\n"
     ]
    },
    {
     "name": "stderr",
     "output_type": "stream",
     "text": [
      "Computing gradient: 100%|██████████| 2/2 [00:00<00:00,  7.89it/s]\n",
      "Computing gradient: 100%|██████████| 2/2 [00:00<00:00,  4.89it/s]\n",
      "Computing gradient: 100%|██████████| 2/2 [00:00<00:00, 11.16it/s]\n",
      "Computing gradient: 100%|██████████| 2/2 [00:00<00:00, 10.18it/s]\n",
      "Computing forward impact: 100%|██████████| 512/512 [00:00<00:00, 544770.08it/s]\n",
      "Computing forward impact: 100%|██████████| 512/512 [00:00<00:00, 553617.85it/s]\n",
      "Computing forward impact: 100%|██████████| 512/512 [00:00<00:00, 1492344.44it/s]\n",
      "Collecting objectives for pareto-front: 100%|██████████| 512/512 [00:00<00:00, 4418690.63it/s]\n",
      "Identifying pareto-front: 100%|██████████| 512/512 [00:00<00:00, 37506.70it/s]\n",
      "Extracting pareto-front: 100%|██████████| 512/512 [00:00<00:00, 355308.35it/s]\n"
     ]
    },
    {
     "name": "stdout",
     "output_type": "stream",
     "text": [
      "=================\n",
      "Localize results\n",
      "created files:\n",
      "     ../nii_dataset/experiments/eAI-fair-aware-mixed/LFW/Exp-repair-vgg16-v1/results-0-None/5/FPR/localized_data_17/weights.csv\n",
      "=================\n"
     ]
    },
    {
     "name": "stderr",
     "output_type": "stream",
     "text": [
      "Initializing particles: 100%|██████████| 17/17 [00:00<00:00, 811.68it/s]\n",
      "Computing velocity bounds: 100%|██████████| 21/21 [00:00<00:00, 349.84it/s]\n",
      "Initializing particle's scores: 100%|██████████| 100/100 [00:39<00:00,  2.53it/s]\n",
      "Updating particle positions (it=1/100): 100%|██████████| 100/100 [00:38<00:00,  2.61it/s]\n",
      "Updating particle positions (it=2/100): 100%|██████████| 100/100 [00:38<00:00,  2.59it/s]\n",
      "Updating particle positions (it=3/100): 100%|██████████| 100/100 [00:39<00:00,  2.56it/s]\n",
      "Updating particle positions (it=4/100): 100%|██████████| 100/100 [00:39<00:00,  2.55it/s]\n",
      "Updating particle positions (it=5/100): 100%|██████████| 100/100 [00:40<00:00,  2.47it/s]\n",
      "Updating particle positions (it=6/100): 100%|██████████| 100/100 [00:37<00:00,  2.66it/s]\n",
      "Updating particle positions (it=7/100): 100%|██████████| 100/100 [00:35<00:00,  2.80it/s]\n",
      "Updating particle positions (it=8/100): 100%|██████████| 100/100 [00:35<00:00,  2.82it/s]\n",
      "Updating particle positions (it=9/100): 100%|██████████| 100/100 [00:35<00:00,  2.80it/s]\n",
      "Updating particle positions (it=10/100): 100%|██████████| 100/100 [00:34<00:00,  2.86it/s]\n",
      "Updating particle positions (it=11/100): 100%|██████████| 100/100 [00:35<00:00,  2.85it/s]\n",
      "Updating particle positions (it=12/100): 100%|██████████| 100/100 [00:35<00:00,  2.81it/s]\n"
     ]
    },
    {
     "name": "stdout",
     "output_type": "stream",
     "text": [
      "INFO:tensorflow:Assets written to: ../nii_dataset/experiments/eAI-fair-aware-mixed/LFW/Exp-repair-vgg16-v1/results-0-None/5/FPR/repaired_model_17/repair/assets\n"
     ]
    },
    {
     "name": "stderr",
     "output_type": "stream",
     "text": [
      "INFO:tensorflow:Assets written to: ../nii_dataset/experiments/eAI-fair-aware-mixed/LFW/Exp-repair-vgg16-v1/results-0-None/5/FPR/repaired_model_17/repair/assets\n"
     ]
    },
    {
     "name": "stdout",
     "output_type": "stream",
     "text": [
      "=================\n",
      "Optimize results\n",
      "created files:\n",
      "     ../nii_dataset/experiments/eAI-fair-aware-mixed/LFW/Exp-repair-vgg16-v1/results-0-None/5/FPR/repaired_model_17/weights.csv\n",
      "     ../nii_dataset/experiments/eAI-fair-aware-mixed/LFW/Exp-repair-vgg16-v1/results-0-None/5/FPR/localized_data_17/weights.csv\n",
      "=================\n",
      "18 model path:  ../nii_dataset/training/LFW/VGG-Gender.h5\n",
      "(504, 32, 32, 3) None None\n"
     ]
    },
    {
     "name": "stderr",
     "output_type": "stream",
     "text": [
      "Computing gradient: 100%|██████████| 2/2 [00:00<00:00,  9.82it/s]\n",
      "Computing gradient: 100%|██████████| 2/2 [00:00<00:00,  8.18it/s]\n",
      "Computing gradient: 100%|██████████| 2/2 [00:00<00:00, 11.19it/s]\n",
      "Computing gradient: 100%|██████████| 2/2 [00:00<00:00,  7.69it/s]\n",
      "Computing forward impact: 100%|██████████| 512/512 [00:00<00:00, 600191.07it/s]\n",
      "Computing forward impact: 100%|██████████| 512/512 [00:00<00:00, 671088.64it/s]\n",
      "Computing forward impact: 100%|██████████| 512/512 [00:00<00:00, 1595455.90it/s]\n",
      "Collecting objectives for pareto-front: 100%|██████████| 512/512 [00:00<00:00, 3883333.90it/s]\n",
      "Identifying pareto-front: 100%|██████████| 512/512 [00:00<00:00, 38499.17it/s]\n",
      "Extracting pareto-front: 100%|██████████| 512/512 [00:00<00:00, 400351.16it/s]\n"
     ]
    },
    {
     "name": "stdout",
     "output_type": "stream",
     "text": [
      "=================\n",
      "Localize results\n",
      "created files:\n",
      "     ../nii_dataset/experiments/eAI-fair-aware-mixed/LFW/Exp-repair-vgg16-v1/results-0-None/5/FPR/localized_data_18/weights.csv\n",
      "=================\n"
     ]
    },
    {
     "name": "stderr",
     "output_type": "stream",
     "text": [
      "Initializing particles: 100%|██████████| 16/16 [00:00<00:00, 1412.43it/s]\n",
      "Computing velocity bounds: 100%|██████████| 21/21 [00:00<00:00, 496.45it/s]\n",
      "Initializing particle's scores: 100%|██████████| 100/100 [00:35<00:00,  2.79it/s]\n",
      "Updating particle positions (it=1/100): 100%|██████████| 100/100 [00:35<00:00,  2.84it/s]\n",
      "Updating particle positions (it=2/100): 100%|██████████| 100/100 [00:35<00:00,  2.85it/s]\n",
      "Updating particle positions (it=3/100): 100%|██████████| 100/100 [00:34<00:00,  2.89it/s]\n",
      "Updating particle positions (it=4/100): 100%|██████████| 100/100 [00:35<00:00,  2.84it/s]\n",
      "Updating particle positions (it=5/100): 100%|██████████| 100/100 [00:35<00:00,  2.80it/s]\n",
      "Updating particle positions (it=6/100): 100%|██████████| 100/100 [00:35<00:00,  2.80it/s]\n",
      "Updating particle positions (it=7/100): 100%|██████████| 100/100 [00:35<00:00,  2.84it/s]\n",
      "Updating particle positions (it=8/100): 100%|██████████| 100/100 [00:39<00:00,  2.52it/s]\n",
      "Updating particle positions (it=9/100): 100%|██████████| 100/100 [00:40<00:00,  2.50it/s]\n",
      "Updating particle positions (it=10/100): 100%|██████████| 100/100 [00:41<00:00,  2.44it/s]\n",
      "Updating particle positions (it=11/100): 100%|██████████| 100/100 [00:40<00:00,  2.45it/s]\n",
      "Updating particle positions (it=12/100): 100%|██████████| 100/100 [00:40<00:00,  2.47it/s]\n"
     ]
    },
    {
     "name": "stdout",
     "output_type": "stream",
     "text": [
      "INFO:tensorflow:Assets written to: ../nii_dataset/experiments/eAI-fair-aware-mixed/LFW/Exp-repair-vgg16-v1/results-0-None/5/FPR/repaired_model_18/repair/assets\n"
     ]
    },
    {
     "name": "stderr",
     "output_type": "stream",
     "text": [
      "INFO:tensorflow:Assets written to: ../nii_dataset/experiments/eAI-fair-aware-mixed/LFW/Exp-repair-vgg16-v1/results-0-None/5/FPR/repaired_model_18/repair/assets\n"
     ]
    },
    {
     "name": "stdout",
     "output_type": "stream",
     "text": [
      "=================\n",
      "Optimize results\n",
      "created files:\n",
      "     ../nii_dataset/experiments/eAI-fair-aware-mixed/LFW/Exp-repair-vgg16-v1/results-0-None/5/FPR/localized_data_18/weights.csv\n",
      "     ../nii_dataset/experiments/eAI-fair-aware-mixed/LFW/Exp-repair-vgg16-v1/results-0-None/5/FPR/repaired_model_18/weights.csv\n",
      "=================\n",
      "19 model path:  ../nii_dataset/training/LFW/VGG-Gender.h5\n",
      "(504, 32, 32, 3) None None\n"
     ]
    },
    {
     "name": "stderr",
     "output_type": "stream",
     "text": [
      "Computing gradient: 100%|██████████| 2/2 [00:00<00:00,  7.47it/s]\n",
      "Computing gradient: 100%|██████████| 2/2 [00:00<00:00,  7.09it/s]\n",
      "Computing gradient: 100%|██████████| 2/2 [00:00<00:00, 11.62it/s]\n",
      "Computing gradient: 100%|██████████| 2/2 [00:00<00:00,  8.75it/s]\n",
      "Computing forward impact: 100%|██████████| 512/512 [00:00<00:00, 468780.54it/s]\n",
      "Computing forward impact: 100%|██████████| 512/512 [00:00<00:00, 494242.50it/s]\n",
      "Computing forward impact: 100%|██████████| 512/512 [00:00<00:00, 1433567.19it/s]\n",
      "Collecting objectives for pareto-front: 100%|██████████| 512/512 [00:00<00:00, 3463683.30it/s]\n",
      "Identifying pareto-front: 100%|██████████| 512/512 [00:00<00:00, 40194.73it/s]\n",
      "Extracting pareto-front: 100%|██████████| 512/512 [00:00<00:00, 430185.03it/s]\n"
     ]
    },
    {
     "name": "stdout",
     "output_type": "stream",
     "text": [
      "=================\n",
      "Localize results\n",
      "created files:\n",
      "     ../nii_dataset/experiments/eAI-fair-aware-mixed/LFW/Exp-repair-vgg16-v1/results-0-None/5/FPR/localized_data_19/weights.csv\n",
      "=================\n"
     ]
    },
    {
     "name": "stderr",
     "output_type": "stream",
     "text": [
      "Initializing particles: 100%|██████████| 14/14 [00:00<00:00, 830.38it/s]\n",
      "Computing velocity bounds: 100%|██████████| 21/21 [00:00<00:00, 423.46it/s]\n",
      "Initializing particle's scores: 100%|██████████| 100/100 [00:41<00:00,  2.42it/s]\n",
      "Updating particle positions (it=1/100): 100%|██████████| 100/100 [00:40<00:00,  2.48it/s]\n",
      "Updating particle positions (it=2/100): 100%|██████████| 100/100 [00:40<00:00,  2.49it/s]\n",
      "Updating particle positions (it=3/100): 100%|██████████| 100/100 [00:40<00:00,  2.45it/s]\n",
      "Updating particle positions (it=4/100): 100%|██████████| 100/100 [00:40<00:00,  2.47it/s]\n",
      "Updating particle positions (it=5/100): 100%|██████████| 100/100 [00:40<00:00,  2.48it/s]\n",
      "Updating particle positions (it=6/100): 100%|██████████| 100/100 [00:40<00:00,  2.49it/s]\n",
      "Updating particle positions (it=7/100): 100%|██████████| 100/100 [00:40<00:00,  2.49it/s]\n",
      "Updating particle positions (it=8/100): 100%|██████████| 100/100 [00:39<00:00,  2.50it/s]\n",
      "Updating particle positions (it=9/100): 100%|██████████| 100/100 [00:40<00:00,  2.48it/s]\n",
      "Updating particle positions (it=10/100): 100%|██████████| 100/100 [00:40<00:00,  2.46it/s]\n",
      "Updating particle positions (it=11/100): 100%|██████████| 100/100 [00:40<00:00,  2.48it/s]\n",
      "Updating particle positions (it=12/100): 100%|██████████| 100/100 [00:40<00:00,  2.47it/s]\n"
     ]
    },
    {
     "name": "stdout",
     "output_type": "stream",
     "text": [
      "INFO:tensorflow:Assets written to: ../nii_dataset/experiments/eAI-fair-aware-mixed/LFW/Exp-repair-vgg16-v1/results-0-None/5/FPR/repaired_model_19/repair/assets\n"
     ]
    },
    {
     "name": "stderr",
     "output_type": "stream",
     "text": [
      "INFO:tensorflow:Assets written to: ../nii_dataset/experiments/eAI-fair-aware-mixed/LFW/Exp-repair-vgg16-v1/results-0-None/5/FPR/repaired_model_19/repair/assets\n"
     ]
    },
    {
     "name": "stdout",
     "output_type": "stream",
     "text": [
      "=================\n",
      "Optimize results\n",
      "created files:\n",
      "     ../nii_dataset/experiments/eAI-fair-aware-mixed/LFW/Exp-repair-vgg16-v1/results-0-None/5/FPR/localized_data_19/weights.csv\n",
      "     ../nii_dataset/experiments/eAI-fair-aware-mixed/LFW/Exp-repair-vgg16-v1/results-0-None/5/FPR/repaired_model_19/weights.csv\n",
      "=================\n",
      "20 model path:  ../nii_dataset/training/LFW/VGG-Gender.h5\n",
      "(504, 32, 32, 3) None None\n"
     ]
    },
    {
     "name": "stderr",
     "output_type": "stream",
     "text": [
      "Computing gradient: 100%|██████████| 2/2 [00:00<00:00,  9.22it/s]\n",
      "Computing gradient: 100%|██████████| 2/2 [00:00<00:00,  8.04it/s]\n",
      "Computing gradient: 100%|██████████| 2/2 [00:00<00:00,  9.07it/s]\n",
      "Computing gradient: 100%|██████████| 2/2 [00:00<00:00,  8.18it/s]\n",
      "Computing forward impact: 100%|██████████| 512/512 [00:00<00:00, 549369.06it/s]\n",
      "Computing forward impact: 100%|██████████| 512/512 [00:00<00:00, 532214.04it/s]\n",
      "Computing forward impact: 100%|██████████| 512/512 [00:00<00:00, 1365215.29it/s]\n",
      "Collecting objectives for pareto-front: 100%|██████████| 512/512 [00:00<00:00, 3683505.40it/s]\n",
      "Identifying pareto-front: 100%|██████████| 512/512 [00:00<00:00, 38717.82it/s]\n",
      "Extracting pareto-front: 100%|██████████| 512/512 [00:00<00:00, 409590.63it/s]\n"
     ]
    },
    {
     "name": "stdout",
     "output_type": "stream",
     "text": [
      "=================\n",
      "Localize results\n",
      "created files:\n",
      "     ../nii_dataset/experiments/eAI-fair-aware-mixed/LFW/Exp-repair-vgg16-v1/results-0-None/5/FPR/localized_data_20/weights.csv\n",
      "=================\n"
     ]
    },
    {
     "name": "stderr",
     "output_type": "stream",
     "text": [
      "Initializing particles: 100%|██████████| 15/15 [00:00<00:00, 937.67it/s]\n",
      "Computing velocity bounds: 100%|██████████| 21/21 [00:00<00:00, 370.79it/s]\n",
      "Initializing particle's scores: 100%|██████████| 100/100 [00:40<00:00,  2.49it/s]\n",
      "Updating particle positions (it=1/100): 100%|██████████| 100/100 [00:40<00:00,  2.49it/s]\n",
      "Updating particle positions (it=2/100): 100%|██████████| 100/100 [00:38<00:00,  2.60it/s]\n",
      "Updating particle positions (it=3/100): 100%|██████████| 100/100 [00:40<00:00,  2.47it/s]\n",
      "Updating particle positions (it=4/100): 100%|██████████| 100/100 [00:41<00:00,  2.42it/s]\n",
      "Updating particle positions (it=5/100): 100%|██████████| 100/100 [00:40<00:00,  2.45it/s]\n",
      "Updating particle positions (it=6/100): 100%|██████████| 100/100 [00:40<00:00,  2.46it/s]\n",
      "Updating particle positions (it=7/100): 100%|██████████| 100/100 [00:40<00:00,  2.50it/s]\n",
      "Updating particle positions (it=8/100): 100%|██████████| 100/100 [00:40<00:00,  2.47it/s]\n",
      "Updating particle positions (it=9/100): 100%|██████████| 100/100 [00:38<00:00,  2.56it/s]\n",
      "Updating particle positions (it=10/100): 100%|██████████| 100/100 [00:40<00:00,  2.48it/s]\n",
      "Updating particle positions (it=11/100): 100%|██████████| 100/100 [00:40<00:00,  2.47it/s]\n",
      "Updating particle positions (it=12/100): 100%|██████████| 100/100 [00:40<00:00,  2.49it/s]\n"
     ]
    },
    {
     "name": "stdout",
     "output_type": "stream",
     "text": [
      "INFO:tensorflow:Assets written to: ../nii_dataset/experiments/eAI-fair-aware-mixed/LFW/Exp-repair-vgg16-v1/results-0-None/5/FPR/repaired_model_20/repair/assets\n"
     ]
    },
    {
     "name": "stderr",
     "output_type": "stream",
     "text": [
      "INFO:tensorflow:Assets written to: ../nii_dataset/experiments/eAI-fair-aware-mixed/LFW/Exp-repair-vgg16-v1/results-0-None/5/FPR/repaired_model_20/repair/assets\n"
     ]
    },
    {
     "name": "stdout",
     "output_type": "stream",
     "text": [
      "=================\n",
      "Optimize results\n",
      "created files:\n",
      "     ../nii_dataset/experiments/eAI-fair-aware-mixed/LFW/Exp-repair-vgg16-v1/results-0-None/5/FPR/repaired_model_20/weights.csv\n",
      "     ../nii_dataset/experiments/eAI-fair-aware-mixed/LFW/Exp-repair-vgg16-v1/results-0-None/5/FPR/localized_data_20/weights.csv\n",
      "=================\n",
      "21 model path:  ../nii_dataset/training/LFW/VGG-Gender.h5\n",
      "(504, 32, 32, 3) None None\n"
     ]
    },
    {
     "name": "stderr",
     "output_type": "stream",
     "text": [
      "Computing gradient: 100%|██████████| 2/2 [00:00<00:00,  8.66it/s]\n",
      "Computing gradient: 100%|██████████| 2/2 [00:00<00:00,  8.52it/s]\n",
      "Computing gradient: 100%|██████████| 2/2 [00:00<00:00, 10.62it/s]\n",
      "Computing gradient: 100%|██████████| 2/2 [00:00<00:00,  8.35it/s]\n",
      "Computing forward impact: 100%|██████████| 512/512 [00:00<00:00, 572052.12it/s]\n",
      "Computing forward impact: 100%|██████████| 512/512 [00:00<00:00, 249128.03it/s]\n",
      "Computing forward impact: 100%|██████████| 512/512 [00:00<00:00, 807324.68it/s]\n",
      "Collecting objectives for pareto-front: 100%|██████████| 512/512 [00:00<00:00, 1080223.16it/s]\n",
      "Identifying pareto-front: 100%|██████████| 512/512 [00:00<00:00, 39499.76it/s]\n",
      "Extracting pareto-front: 100%|██████████| 512/512 [00:00<00:00, 415534.76it/s]\n"
     ]
    },
    {
     "name": "stdout",
     "output_type": "stream",
     "text": [
      "=================\n",
      "Localize results\n",
      "created files:\n",
      "     ../nii_dataset/experiments/eAI-fair-aware-mixed/LFW/Exp-repair-vgg16-v1/results-0-None/5/FPR/localized_data_21/weights.csv\n",
      "=================\n"
     ]
    },
    {
     "name": "stderr",
     "output_type": "stream",
     "text": [
      "Initializing particles: 100%|██████████| 15/15 [00:00<00:00, 1084.14it/s]\n",
      "Computing velocity bounds: 100%|██████████| 21/21 [00:00<00:00, 346.64it/s]\n",
      "Initializing particle's scores: 100%|██████████| 100/100 [00:40<00:00,  2.45it/s]\n",
      "Updating particle positions (it=1/100): 100%|██████████| 100/100 [00:39<00:00,  2.50it/s]\n",
      "Updating particle positions (it=2/100): 100%|██████████| 100/100 [00:40<00:00,  2.50it/s]\n",
      "Updating particle positions (it=3/100): 100%|██████████| 100/100 [00:40<00:00,  2.50it/s]\n",
      "Updating particle positions (it=4/100): 100%|██████████| 100/100 [00:40<00:00,  2.48it/s]\n",
      "Updating particle positions (it=5/100): 100%|██████████| 100/100 [00:39<00:00,  2.51it/s]\n",
      "Updating particle positions (it=6/100): 100%|██████████| 100/100 [00:39<00:00,  2.54it/s]\n",
      "Updating particle positions (it=7/100): 100%|██████████| 100/100 [00:39<00:00,  2.51it/s]\n",
      "Updating particle positions (it=8/100): 100%|██████████| 100/100 [00:39<00:00,  2.51it/s]\n",
      "Updating particle positions (it=9/100): 100%|██████████| 100/100 [00:40<00:00,  2.44it/s]\n",
      "Updating particle positions (it=10/100): 100%|██████████| 100/100 [00:39<00:00,  2.55it/s]\n",
      "Updating particle positions (it=11/100): 100%|██████████| 100/100 [00:36<00:00,  2.72it/s]\n",
      "Updating particle positions (it=12/100): 100%|██████████| 100/100 [00:36<00:00,  2.71it/s]\n"
     ]
    },
    {
     "name": "stdout",
     "output_type": "stream",
     "text": [
      "INFO:tensorflow:Assets written to: ../nii_dataset/experiments/eAI-fair-aware-mixed/LFW/Exp-repair-vgg16-v1/results-0-None/5/FPR/repaired_model_21/repair/assets\n"
     ]
    },
    {
     "name": "stderr",
     "output_type": "stream",
     "text": [
      "INFO:tensorflow:Assets written to: ../nii_dataset/experiments/eAI-fair-aware-mixed/LFW/Exp-repair-vgg16-v1/results-0-None/5/FPR/repaired_model_21/repair/assets\n"
     ]
    },
    {
     "name": "stdout",
     "output_type": "stream",
     "text": [
      "=================\n",
      "Optimize results\n",
      "created files:\n",
      "     ../nii_dataset/experiments/eAI-fair-aware-mixed/LFW/Exp-repair-vgg16-v1/results-0-None/5/FPR/repaired_model_21/weights.csv\n",
      "     ../nii_dataset/experiments/eAI-fair-aware-mixed/LFW/Exp-repair-vgg16-v1/results-0-None/5/FPR/localized_data_21/weights.csv\n",
      "=================\n",
      "22 model path:  ../nii_dataset/training/LFW/VGG-Gender.h5\n",
      "(504, 32, 32, 3) None None\n"
     ]
    },
    {
     "name": "stderr",
     "output_type": "stream",
     "text": [
      "Computing gradient: 100%|██████████| 2/2 [00:00<00:00,  7.95it/s]\n",
      "Computing gradient: 100%|██████████| 2/2 [00:00<00:00,  8.71it/s]\n",
      "Computing gradient: 100%|██████████| 2/2 [00:00<00:00, 11.65it/s]\n",
      "Computing gradient: 100%|██████████| 2/2 [00:00<00:00,  8.56it/s]\n",
      "Computing forward impact: 100%|██████████| 512/512 [00:00<00:00, 623543.45it/s]\n",
      "Computing forward impact: 100%|██████████| 512/512 [00:00<00:00, 183107.41it/s]\n",
      "Computing forward impact: 100%|██████████| 512/512 [00:00<00:00, 1510185.41it/s]\n",
      "Collecting objectives for pareto-front: 100%|██████████| 512/512 [00:00<00:00, 3658404.85it/s]\n",
      "Identifying pareto-front: 100%|██████████| 512/512 [00:00<00:00, 36760.65it/s]\n",
      "Extracting pareto-front: 100%|██████████| 512/512 [00:00<00:00, 386168.61it/s]\n"
     ]
    },
    {
     "name": "stdout",
     "output_type": "stream",
     "text": [
      "=================\n",
      "Localize results\n",
      "created files:\n",
      "     ../nii_dataset/experiments/eAI-fair-aware-mixed/LFW/Exp-repair-vgg16-v1/results-0-None/5/FPR/localized_data_22/weights.csv\n",
      "=================\n"
     ]
    },
    {
     "name": "stderr",
     "output_type": "stream",
     "text": [
      "Initializing particles: 100%|██████████| 16/16 [00:00<00:00, 692.97it/s]\n",
      "Computing velocity bounds: 100%|██████████| 21/21 [00:00<00:00, 315.09it/s]\n",
      "Initializing particle's scores: 100%|██████████| 100/100 [00:38<00:00,  2.58it/s]\n",
      "Updating particle positions (it=1/100): 100%|██████████| 100/100 [00:37<00:00,  2.65it/s]\n",
      "Updating particle positions (it=2/100): 100%|██████████| 100/100 [00:38<00:00,  2.61it/s]\n",
      "Updating particle positions (it=3/100): 100%|██████████| 100/100 [00:38<00:00,  2.59it/s]\n",
      "Updating particle positions (it=4/100): 100%|██████████| 100/100 [00:40<00:00,  2.49it/s]\n",
      "Updating particle positions (it=5/100): 100%|██████████| 100/100 [00:40<00:00,  2.46it/s]\n",
      "Updating particle positions (it=6/100): 100%|██████████| 100/100 [00:40<00:00,  2.49it/s]\n",
      "Updating particle positions (it=7/100): 100%|██████████| 100/100 [00:42<00:00,  2.37it/s]\n",
      "Updating particle positions (it=8/100): 100%|██████████| 100/100 [00:40<00:00,  2.45it/s]\n",
      "Updating particle positions (it=9/100): 100%|██████████| 100/100 [00:40<00:00,  2.49it/s]\n",
      "Updating particle positions (it=10/100): 100%|██████████| 100/100 [00:40<00:00,  2.48it/s]\n",
      "Updating particle positions (it=11/100): 100%|██████████| 100/100 [00:40<00:00,  2.47it/s]\n",
      "Updating particle positions (it=12/100): 100%|██████████| 100/100 [00:39<00:00,  2.51it/s]\n"
     ]
    },
    {
     "name": "stdout",
     "output_type": "stream",
     "text": [
      "INFO:tensorflow:Assets written to: ../nii_dataset/experiments/eAI-fair-aware-mixed/LFW/Exp-repair-vgg16-v1/results-0-None/5/FPR/repaired_model_22/repair/assets\n"
     ]
    },
    {
     "name": "stderr",
     "output_type": "stream",
     "text": [
      "INFO:tensorflow:Assets written to: ../nii_dataset/experiments/eAI-fair-aware-mixed/LFW/Exp-repair-vgg16-v1/results-0-None/5/FPR/repaired_model_22/repair/assets\n"
     ]
    },
    {
     "name": "stdout",
     "output_type": "stream",
     "text": [
      "=================\n",
      "Optimize results\n",
      "created files:\n",
      "     ../nii_dataset/experiments/eAI-fair-aware-mixed/LFW/Exp-repair-vgg16-v1/results-0-None/5/FPR/localized_data_22/weights.csv\n",
      "     ../nii_dataset/experiments/eAI-fair-aware-mixed/LFW/Exp-repair-vgg16-v1/results-0-None/5/FPR/repaired_model_22/weights.csv\n",
      "=================\n",
      "23 model path:  ../nii_dataset/training/LFW/VGG-Gender.h5\n",
      "(504, 32, 32, 3) None None\n"
     ]
    },
    {
     "name": "stderr",
     "output_type": "stream",
     "text": [
      "Computing gradient: 100%|██████████| 2/2 [00:00<00:00,  8.89it/s]\n",
      "Computing gradient: 100%|██████████| 2/2 [00:00<00:00,  8.16it/s]\n",
      "Computing gradient: 100%|██████████| 2/2 [00:00<00:00, 11.47it/s]\n",
      "Computing gradient: 100%|██████████| 2/2 [00:00<00:00,  8.34it/s]\n",
      "Computing forward impact: 100%|██████████| 512/512 [00:00<00:00, 232941.06it/s]\n",
      "Computing forward impact: 100%|██████████| 512/512 [00:00<00:00, 585145.41it/s]\n",
      "Computing forward impact: 100%|██████████| 512/512 [00:00<00:00, 1418417.20it/s]\n",
      "Collecting objectives for pareto-front: 100%|██████████| 512/512 [00:00<00:00, 3821145.28it/s]\n",
      "Identifying pareto-front: 100%|██████████| 512/512 [00:00<00:00, 38691.31it/s]\n",
      "Extracting pareto-front: 100%|██████████| 512/512 [00:00<00:00, 388473.89it/s]\n"
     ]
    },
    {
     "name": "stdout",
     "output_type": "stream",
     "text": [
      "=================\n",
      "Localize results\n",
      "created files:\n",
      "     ../nii_dataset/experiments/eAI-fair-aware-mixed/LFW/Exp-repair-vgg16-v1/results-0-None/5/FPR/localized_data_23/weights.csv\n",
      "=================\n"
     ]
    },
    {
     "name": "stderr",
     "output_type": "stream",
     "text": [
      "Initializing particles: 100%|██████████| 16/16 [00:00<00:00, 1055.25it/s]\n",
      "Computing velocity bounds: 100%|██████████| 21/21 [00:00<00:00, 450.56it/s]\n",
      "Initializing particle's scores: 100%|██████████| 100/100 [00:41<00:00,  2.42it/s]\n",
      "Updating particle positions (it=1/100): 100%|██████████| 100/100 [00:41<00:00,  2.40it/s]\n",
      "Updating particle positions (it=2/100): 100%|██████████| 100/100 [00:40<00:00,  2.45it/s]\n",
      "Updating particle positions (it=3/100): 100%|██████████| 100/100 [00:41<00:00,  2.43it/s]\n",
      "Updating particle positions (it=4/100): 100%|██████████| 100/100 [00:40<00:00,  2.46it/s]\n",
      "Updating particle positions (it=5/100): 100%|██████████| 100/100 [00:40<00:00,  2.45it/s]\n",
      "Updating particle positions (it=6/100): 100%|██████████| 100/100 [00:41<00:00,  2.42it/s]\n",
      "Updating particle positions (it=7/100): 100%|██████████| 100/100 [00:40<00:00,  2.46it/s]\n",
      "Updating particle positions (it=8/100): 100%|██████████| 100/100 [00:41<00:00,  2.41it/s]\n",
      "Updating particle positions (it=9/100): 100%|██████████| 100/100 [00:41<00:00,  2.42it/s]\n",
      "Updating particle positions (it=10/100): 100%|██████████| 100/100 [00:40<00:00,  2.48it/s]\n",
      "Updating particle positions (it=11/100): 100%|██████████| 100/100 [00:39<00:00,  2.50it/s]\n",
      "Updating particle positions (it=12/100): 100%|██████████| 100/100 [00:40<00:00,  2.48it/s]\n"
     ]
    },
    {
     "name": "stdout",
     "output_type": "stream",
     "text": [
      "INFO:tensorflow:Assets written to: ../nii_dataset/experiments/eAI-fair-aware-mixed/LFW/Exp-repair-vgg16-v1/results-0-None/5/FPR/repaired_model_23/repair/assets\n"
     ]
    },
    {
     "name": "stderr",
     "output_type": "stream",
     "text": [
      "INFO:tensorflow:Assets written to: ../nii_dataset/experiments/eAI-fair-aware-mixed/LFW/Exp-repair-vgg16-v1/results-0-None/5/FPR/repaired_model_23/repair/assets\n"
     ]
    },
    {
     "name": "stdout",
     "output_type": "stream",
     "text": [
      "=================\n",
      "Optimize results\n",
      "created files:\n",
      "     ../nii_dataset/experiments/eAI-fair-aware-mixed/LFW/Exp-repair-vgg16-v1/results-0-None/5/FPR/localized_data_23/weights.csv\n",
      "     ../nii_dataset/experiments/eAI-fair-aware-mixed/LFW/Exp-repair-vgg16-v1/results-0-None/5/FPR/repaired_model_23/weights.csv\n",
      "=================\n",
      "24 model path:  ../nii_dataset/training/LFW/VGG-Gender.h5\n",
      "(504, 32, 32, 3) None None\n"
     ]
    },
    {
     "name": "stderr",
     "output_type": "stream",
     "text": [
      "Computing gradient: 100%|██████████| 2/2 [00:00<00:00,  8.55it/s]\n",
      "Computing gradient: 100%|██████████| 2/2 [00:00<00:00,  8.34it/s]\n",
      "Computing gradient: 100%|██████████| 2/2 [00:00<00:00, 11.07it/s]\n",
      "Computing gradient: 100%|██████████| 2/2 [00:00<00:00,  8.32it/s]\n",
      "Computing forward impact: 100%|██████████| 512/512 [00:00<00:00, 623543.45it/s]\n",
      "Computing forward impact: 100%|██████████| 512/512 [00:00<00:00, 653724.09it/s]\n",
      "Computing forward impact: 100%|██████████| 512/512 [00:00<00:00, 577901.95it/s]\n",
      "Collecting objectives for pareto-front: 100%|██████████| 512/512 [00:00<00:00, 4338350.80it/s]\n",
      "Identifying pareto-front: 100%|██████████| 512/512 [00:00<00:00, 34925.25it/s]\n",
      "Extracting pareto-front: 100%|██████████| 512/512 [00:00<00:00, 328210.86it/s]\n"
     ]
    },
    {
     "name": "stdout",
     "output_type": "stream",
     "text": [
      "=================\n",
      "Localize results\n",
      "created files:\n",
      "     ../nii_dataset/experiments/eAI-fair-aware-mixed/LFW/Exp-repair-vgg16-v1/results-0-None/5/FPR/localized_data_24/weights.csv\n",
      "=================\n"
     ]
    },
    {
     "name": "stderr",
     "output_type": "stream",
     "text": [
      "Initializing particles: 100%|██████████| 20/20 [00:00<00:00, 1156.75it/s]\n",
      "Computing velocity bounds: 100%|██████████| 21/21 [00:00<00:00, 322.30it/s]\n",
      "Initializing particle's scores: 100%|██████████| 100/100 [00:39<00:00,  2.55it/s]\n",
      "Updating particle positions (it=1/100): 100%|██████████| 100/100 [00:39<00:00,  2.52it/s]\n",
      "Updating particle positions (it=2/100): 100%|██████████| 100/100 [00:41<00:00,  2.42it/s]\n",
      "Updating particle positions (it=3/100): 100%|██████████| 100/100 [00:39<00:00,  2.54it/s]\n",
      "Updating particle positions (it=4/100): 100%|██████████| 100/100 [00:39<00:00,  2.51it/s]\n",
      "Updating particle positions (it=5/100): 100%|██████████| 100/100 [00:40<00:00,  2.48it/s]\n",
      "Updating particle positions (it=6/100): 100%|██████████| 100/100 [00:38<00:00,  2.57it/s]\n",
      "Updating particle positions (it=7/100): 100%|██████████| 100/100 [00:39<00:00,  2.54it/s]\n",
      "Updating particle positions (it=8/100): 100%|██████████| 100/100 [00:41<00:00,  2.43it/s]\n",
      "Updating particle positions (it=9/100): 100%|██████████| 100/100 [00:39<00:00,  2.55it/s]\n",
      "Updating particle positions (it=10/100): 100%|██████████| 100/100 [00:40<00:00,  2.48it/s]\n",
      "Updating particle positions (it=11/100): 100%|██████████| 100/100 [00:41<00:00,  2.44it/s]\n",
      "Updating particle positions (it=12/100): 100%|██████████| 100/100 [00:39<00:00,  2.54it/s]\n"
     ]
    },
    {
     "name": "stdout",
     "output_type": "stream",
     "text": [
      "INFO:tensorflow:Assets written to: ../nii_dataset/experiments/eAI-fair-aware-mixed/LFW/Exp-repair-vgg16-v1/results-0-None/5/FPR/repaired_model_24/repair/assets\n"
     ]
    },
    {
     "name": "stderr",
     "output_type": "stream",
     "text": [
      "INFO:tensorflow:Assets written to: ../nii_dataset/experiments/eAI-fair-aware-mixed/LFW/Exp-repair-vgg16-v1/results-0-None/5/FPR/repaired_model_24/repair/assets\n"
     ]
    },
    {
     "name": "stdout",
     "output_type": "stream",
     "text": [
      "=================\n",
      "Optimize results\n",
      "created files:\n",
      "     ../nii_dataset/experiments/eAI-fair-aware-mixed/LFW/Exp-repair-vgg16-v1/results-0-None/5/FPR/localized_data_24/weights.csv\n",
      "     ../nii_dataset/experiments/eAI-fair-aware-mixed/LFW/Exp-repair-vgg16-v1/results-0-None/5/FPR/repaired_model_24/weights.csv\n",
      "=================\n",
      "25 model path:  ../nii_dataset/training/LFW/VGG-Gender.h5\n",
      "(504, 32, 32, 3) None None\n"
     ]
    },
    {
     "name": "stderr",
     "output_type": "stream",
     "text": [
      "Computing gradient: 100%|██████████| 2/2 [00:00<00:00,  9.11it/s]\n",
      "Computing gradient: 100%|██████████| 2/2 [00:00<00:00,  8.41it/s]\n",
      "Computing gradient: 100%|██████████| 2/2 [00:00<00:00, 10.81it/s]\n",
      "Computing gradient: 100%|██████████| 2/2 [00:00<00:00, 10.14it/s]\n",
      "Computing forward impact: 100%|██████████| 512/512 [00:00<00:00, 570380.78it/s]\n",
      "Computing forward impact: 100%|██████████| 512/512 [00:00<00:00, 474058.20it/s]\n",
      "Computing forward impact: 100%|██████████| 512/512 [00:00<00:00, 1152701.90it/s]\n",
      "Collecting objectives for pareto-front: 100%|██████████| 512/512 [00:00<00:00, 2654491.53it/s]\n",
      "Identifying pareto-front: 100%|██████████| 512/512 [00:00<00:00, 37204.55it/s]\n",
      "Extracting pareto-front: 100%|██████████| 512/512 [00:00<00:00, 386933.99it/s]\n"
     ]
    },
    {
     "name": "stdout",
     "output_type": "stream",
     "text": [
      "=================\n",
      "Localize results\n",
      "created files:\n",
      "     ../nii_dataset/experiments/eAI-fair-aware-mixed/LFW/Exp-repair-vgg16-v1/results-0-None/5/FPR/localized_data_25/weights.csv\n",
      "=================\n"
     ]
    },
    {
     "name": "stderr",
     "output_type": "stream",
     "text": [
      "Initializing particles: 100%|██████████| 16/16 [00:00<00:00, 984.91it/s]\n",
      "Computing velocity bounds: 100%|██████████| 21/21 [00:00<00:00, 323.21it/s]\n",
      "Initializing particle's scores: 100%|██████████| 100/100 [00:40<00:00,  2.47it/s]\n",
      "Updating particle positions (it=1/100): 100%|██████████| 100/100 [00:42<00:00,  2.38it/s]\n",
      "Updating particle positions (it=2/100): 100%|██████████| 100/100 [00:41<00:00,  2.39it/s]\n",
      "Updating particle positions (it=3/100): 100%|██████████| 100/100 [00:40<00:00,  2.48it/s]\n",
      "Updating particle positions (it=4/100): 100%|██████████| 100/100 [00:42<00:00,  2.37it/s]\n",
      "Updating particle positions (it=5/100): 100%|██████████| 100/100 [00:41<00:00,  2.43it/s]\n",
      "Updating particle positions (it=6/100): 100%|██████████| 100/100 [00:41<00:00,  2.42it/s]\n",
      "Updating particle positions (it=7/100): 100%|██████████| 100/100 [00:40<00:00,  2.46it/s]\n",
      "Updating particle positions (it=8/100): 100%|██████████| 100/100 [00:42<00:00,  2.37it/s]\n",
      "Updating particle positions (it=9/100): 100%|██████████| 100/100 [00:41<00:00,  2.41it/s]\n",
      "Updating particle positions (it=10/100): 100%|██████████| 100/100 [00:41<00:00,  2.38it/s]\n",
      "Updating particle positions (it=11/100): 100%|██████████| 100/100 [00:40<00:00,  2.44it/s]\n",
      "Updating particle positions (it=12/100): 100%|██████████| 100/100 [00:40<00:00,  2.44it/s]\n"
     ]
    },
    {
     "name": "stdout",
     "output_type": "stream",
     "text": [
      "INFO:tensorflow:Assets written to: ../nii_dataset/experiments/eAI-fair-aware-mixed/LFW/Exp-repair-vgg16-v1/results-0-None/5/FPR/repaired_model_25/repair/assets\n"
     ]
    },
    {
     "name": "stderr",
     "output_type": "stream",
     "text": [
      "INFO:tensorflow:Assets written to: ../nii_dataset/experiments/eAI-fair-aware-mixed/LFW/Exp-repair-vgg16-v1/results-0-None/5/FPR/repaired_model_25/repair/assets\n"
     ]
    },
    {
     "name": "stdout",
     "output_type": "stream",
     "text": [
      "=================\n",
      "Optimize results\n",
      "created files:\n",
      "     ../nii_dataset/experiments/eAI-fair-aware-mixed/LFW/Exp-repair-vgg16-v1/results-0-None/5/FPR/localized_data_25/weights.csv\n",
      "     ../nii_dataset/experiments/eAI-fair-aware-mixed/LFW/Exp-repair-vgg16-v1/results-0-None/5/FPR/repaired_model_25/weights.csv\n",
      "=================\n",
      "26 model path:  ../nii_dataset/training/LFW/VGG-Gender.h5\n",
      "(504, 32, 32, 3) None None\n"
     ]
    },
    {
     "name": "stderr",
     "output_type": "stream",
     "text": [
      "Computing gradient: 100%|██████████| 2/2 [00:00<00:00,  9.82it/s]\n",
      "Computing gradient: 100%|██████████| 2/2 [00:00<00:00,  8.48it/s]\n",
      "Computing gradient: 100%|██████████| 2/2 [00:00<00:00, 10.78it/s]\n",
      "Computing gradient: 100%|██████████| 2/2 [00:00<00:00,  8.33it/s]\n",
      "Computing forward impact: 100%|██████████| 512/512 [00:00<00:00, 569020.57it/s]\n",
      "Computing forward impact: 100%|██████████| 512/512 [00:00<00:00, 483014.77it/s]\n",
      "Computing forward impact: 100%|██████████| 512/512 [00:00<00:00, 1382796.94it/s]\n",
      "Collecting objectives for pareto-front: 100%|██████████| 512/512 [00:00<00:00, 3234162.12it/s]\n",
      "Identifying pareto-front: 100%|██████████| 512/512 [00:00<00:00, 38761.84it/s]\n",
      "Extracting pareto-front: 100%|██████████| 512/512 [00:00<00:00, 382386.69it/s]\n"
     ]
    },
    {
     "name": "stdout",
     "output_type": "stream",
     "text": [
      "=================\n",
      "Localize results\n",
      "created files:\n",
      "     ../nii_dataset/experiments/eAI-fair-aware-mixed/LFW/Exp-repair-vgg16-v1/results-0-None/5/FPR/localized_data_26/weights.csv\n",
      "=================\n"
     ]
    },
    {
     "name": "stderr",
     "output_type": "stream",
     "text": [
      "Initializing particles: 100%|██████████| 16/16 [00:00<00:00, 1100.65it/s]\n",
      "Computing velocity bounds: 100%|██████████| 21/21 [00:00<00:00, 375.15it/s]\n",
      "Initializing particle's scores: 100%|██████████| 100/100 [00:41<00:00,  2.41it/s]\n",
      "Updating particle positions (it=1/100): 100%|██████████| 100/100 [00:41<00:00,  2.43it/s]\n",
      "Updating particle positions (it=2/100): 100%|██████████| 100/100 [00:41<00:00,  2.40it/s]\n",
      "Updating particle positions (it=3/100): 100%|██████████| 100/100 [00:40<00:00,  2.48it/s]\n",
      "Updating particle positions (it=4/100): 100%|██████████| 100/100 [00:40<00:00,  2.48it/s]\n",
      "Updating particle positions (it=5/100): 100%|██████████| 100/100 [00:40<00:00,  2.45it/s]\n",
      "Updating particle positions (it=6/100): 100%|██████████| 100/100 [00:41<00:00,  2.43it/s]\n",
      "Updating particle positions (it=7/100): 100%|██████████| 100/100 [00:41<00:00,  2.43it/s]\n",
      "Updating particle positions (it=8/100): 100%|██████████| 100/100 [00:41<00:00,  2.43it/s]\n",
      "Updating particle positions (it=9/100): 100%|██████████| 100/100 [00:40<00:00,  2.49it/s]\n",
      "Updating particle positions (it=10/100): 100%|██████████| 100/100 [00:42<00:00,  2.37it/s]\n",
      "Updating particle positions (it=11/100): 100%|██████████| 100/100 [00:40<00:00,  2.49it/s]\n",
      "Updating particle positions (it=12/100): 100%|██████████| 100/100 [00:40<00:00,  2.50it/s]\n"
     ]
    },
    {
     "name": "stdout",
     "output_type": "stream",
     "text": [
      "INFO:tensorflow:Assets written to: ../nii_dataset/experiments/eAI-fair-aware-mixed/LFW/Exp-repair-vgg16-v1/results-0-None/5/FPR/repaired_model_26/repair/assets\n"
     ]
    },
    {
     "name": "stderr",
     "output_type": "stream",
     "text": [
      "INFO:tensorflow:Assets written to: ../nii_dataset/experiments/eAI-fair-aware-mixed/LFW/Exp-repair-vgg16-v1/results-0-None/5/FPR/repaired_model_26/repair/assets\n"
     ]
    },
    {
     "name": "stdout",
     "output_type": "stream",
     "text": [
      "=================\n",
      "Optimize results\n",
      "created files:\n",
      "     ../nii_dataset/experiments/eAI-fair-aware-mixed/LFW/Exp-repair-vgg16-v1/results-0-None/5/FPR/repaired_model_26/weights.csv\n",
      "     ../nii_dataset/experiments/eAI-fair-aware-mixed/LFW/Exp-repair-vgg16-v1/results-0-None/5/FPR/localized_data_26/weights.csv\n",
      "=================\n",
      "27 model path:  ../nii_dataset/training/LFW/VGG-Gender.h5\n",
      "(504, 32, 32, 3) None None\n"
     ]
    },
    {
     "name": "stderr",
     "output_type": "stream",
     "text": [
      "Computing gradient: 100%|██████████| 2/2 [00:00<00:00,  9.38it/s]\n",
      "Computing gradient: 100%|██████████| 2/2 [00:00<00:00,  8.24it/s]\n",
      "Computing gradient: 100%|██████████| 2/2 [00:00<00:00, 11.44it/s]\n",
      "Computing gradient: 100%|██████████| 2/2 [00:00<00:00,  8.36it/s]\n",
      "Computing forward impact: 100%|██████████| 512/512 [00:00<00:00, 629760.60it/s]\n",
      "Computing forward impact: 100%|██████████| 512/512 [00:00<00:00, 558368.08it/s]\n",
      "Computing forward impact: 100%|██████████| 512/512 [00:00<00:00, 1560671.26it/s]\n",
      "Collecting objectives for pareto-front: 100%|██████████| 512/512 [00:00<00:00, 3794140.72it/s]\n",
      "Identifying pareto-front: 100%|██████████| 512/512 [00:00<00:00, 37238.74it/s]\n",
      "Extracting pareto-front: 100%|██████████| 512/512 [00:00<00:00, 381165.01it/s]\n"
     ]
    },
    {
     "name": "stdout",
     "output_type": "stream",
     "text": [
      "=================\n",
      "Localize results\n",
      "created files:\n",
      "     ../nii_dataset/experiments/eAI-fair-aware-mixed/LFW/Exp-repair-vgg16-v1/results-0-None/5/FPR/localized_data_27/weights.csv\n",
      "=================\n"
     ]
    },
    {
     "name": "stderr",
     "output_type": "stream",
     "text": [
      "Initializing particles: 100%|██████████| 16/16 [00:00<00:00, 1164.15it/s]\n",
      "Computing velocity bounds: 100%|██████████| 21/21 [00:00<00:00, 443.02it/s]\n",
      "Initializing particle's scores: 100%|██████████| 100/100 [00:43<00:00,  2.30it/s]\n",
      "Updating particle positions (it=1/100): 100%|██████████| 100/100 [00:40<00:00,  2.44it/s]\n",
      "Updating particle positions (it=2/100): 100%|██████████| 100/100 [00:40<00:00,  2.46it/s]\n",
      "Updating particle positions (it=3/100): 100%|██████████| 100/100 [00:39<00:00,  2.54it/s]\n",
      "Updating particle positions (it=4/100): 100%|██████████| 100/100 [00:39<00:00,  2.54it/s]\n",
      "Updating particle positions (it=5/100): 100%|██████████| 100/100 [00:40<00:00,  2.50it/s]\n",
      "Updating particle positions (it=6/100): 100%|██████████| 100/100 [00:40<00:00,  2.48it/s]\n",
      "Updating particle positions (it=7/100): 100%|██████████| 100/100 [00:39<00:00,  2.51it/s]\n",
      "Updating particle positions (it=8/100): 100%|██████████| 100/100 [00:40<00:00,  2.46it/s]\n",
      "Updating particle positions (it=9/100): 100%|██████████| 100/100 [00:40<00:00,  2.48it/s]\n",
      "Updating particle positions (it=10/100): 100%|██████████| 100/100 [00:40<00:00,  2.44it/s]\n",
      "Updating particle positions (it=11/100): 100%|██████████| 100/100 [00:41<00:00,  2.40it/s]\n",
      "Updating particle positions (it=12/100): 100%|██████████| 100/100 [00:39<00:00,  2.51it/s]\n"
     ]
    },
    {
     "name": "stdout",
     "output_type": "stream",
     "text": [
      "INFO:tensorflow:Assets written to: ../nii_dataset/experiments/eAI-fair-aware-mixed/LFW/Exp-repair-vgg16-v1/results-0-None/5/FPR/repaired_model_27/repair/assets\n"
     ]
    },
    {
     "name": "stderr",
     "output_type": "stream",
     "text": [
      "INFO:tensorflow:Assets written to: ../nii_dataset/experiments/eAI-fair-aware-mixed/LFW/Exp-repair-vgg16-v1/results-0-None/5/FPR/repaired_model_27/repair/assets\n"
     ]
    },
    {
     "name": "stdout",
     "output_type": "stream",
     "text": [
      "=================\n",
      "Optimize results\n",
      "created files:\n",
      "     ../nii_dataset/experiments/eAI-fair-aware-mixed/LFW/Exp-repair-vgg16-v1/results-0-None/5/FPR/repaired_model_27/weights.csv\n",
      "     ../nii_dataset/experiments/eAI-fair-aware-mixed/LFW/Exp-repair-vgg16-v1/results-0-None/5/FPR/localized_data_27/weights.csv\n",
      "=================\n",
      "28 model path:  ../nii_dataset/training/LFW/VGG-Gender.h5\n",
      "(504, 32, 32, 3) None None\n"
     ]
    },
    {
     "name": "stderr",
     "output_type": "stream",
     "text": [
      "Computing gradient: 100%|██████████| 2/2 [00:00<00:00,  6.64it/s]\n",
      "Computing gradient: 100%|██████████| 2/2 [00:00<00:00,  8.25it/s]\n",
      "Computing gradient: 100%|██████████| 2/2 [00:00<00:00, 11.67it/s]\n",
      "Computing gradient: 100%|██████████| 2/2 [00:00<00:00,  8.18it/s]\n",
      "Computing forward impact: 100%|██████████| 512/512 [00:00<00:00, 570683.94it/s]\n",
      "Computing forward impact: 100%|██████████| 512/512 [00:00<00:00, 198693.90it/s]\n",
      "Computing forward impact: 100%|██████████| 512/512 [00:00<00:00, 1505949.26it/s]\n",
      "Collecting objectives for pareto-front: 100%|██████████| 512/512 [00:00<00:00, 4129776.25it/s]\n",
      "Identifying pareto-front: 100%|██████████| 512/512 [00:00<00:00, 38340.39it/s]\n",
      "Extracting pareto-front: 100%|██████████| 512/512 [00:00<00:00, 367531.00it/s]\n"
     ]
    },
    {
     "name": "stdout",
     "output_type": "stream",
     "text": [
      "=================\n",
      "Localize results\n",
      "created files:\n",
      "     ../nii_dataset/experiments/eAI-fair-aware-mixed/LFW/Exp-repair-vgg16-v1/results-0-None/5/FPR/localized_data_28/weights.csv\n",
      "=================\n"
     ]
    },
    {
     "name": "stderr",
     "output_type": "stream",
     "text": [
      "Initializing particles: 100%|██████████| 17/17 [00:00<00:00, 843.91it/s]\n",
      "Computing velocity bounds: 100%|██████████| 21/21 [00:00<00:00, 324.59it/s]\n",
      "Initializing particle's scores: 100%|██████████| 100/100 [00:40<00:00,  2.46it/s]\n",
      "Updating particle positions (it=1/100): 100%|██████████| 100/100 [00:40<00:00,  2.47it/s]\n",
      "Updating particle positions (it=2/100): 100%|██████████| 100/100 [00:40<00:00,  2.48it/s]\n",
      "Updating particle positions (it=3/100): 100%|██████████| 100/100 [00:40<00:00,  2.44it/s]\n",
      "Updating particle positions (it=4/100): 100%|██████████| 100/100 [00:40<00:00,  2.47it/s]\n",
      "Updating particle positions (it=5/100): 100%|██████████| 100/100 [00:40<00:00,  2.47it/s]\n",
      "Updating particle positions (it=6/100): 100%|██████████| 100/100 [00:40<00:00,  2.49it/s]\n",
      "Updating particle positions (it=7/100): 100%|██████████| 100/100 [00:40<00:00,  2.48it/s]\n",
      "Updating particle positions (it=8/100): 100%|██████████| 100/100 [00:41<00:00,  2.44it/s]\n",
      "Updating particle positions (it=9/100): 100%|██████████| 100/100 [00:41<00:00,  2.44it/s]\n",
      "Updating particle positions (it=10/100): 100%|██████████| 100/100 [00:41<00:00,  2.43it/s]\n",
      "Updating particle positions (it=11/100): 100%|██████████| 100/100 [00:39<00:00,  2.51it/s]\n",
      "Updating particle positions (it=12/100): 100%|██████████| 100/100 [00:40<00:00,  2.44it/s]\n"
     ]
    },
    {
     "name": "stdout",
     "output_type": "stream",
     "text": [
      "INFO:tensorflow:Assets written to: ../nii_dataset/experiments/eAI-fair-aware-mixed/LFW/Exp-repair-vgg16-v1/results-0-None/5/FPR/repaired_model_28/repair/assets\n"
     ]
    },
    {
     "name": "stderr",
     "output_type": "stream",
     "text": [
      "INFO:tensorflow:Assets written to: ../nii_dataset/experiments/eAI-fair-aware-mixed/LFW/Exp-repair-vgg16-v1/results-0-None/5/FPR/repaired_model_28/repair/assets\n"
     ]
    },
    {
     "name": "stdout",
     "output_type": "stream",
     "text": [
      "=================\n",
      "Optimize results\n",
      "created files:\n",
      "     ../nii_dataset/experiments/eAI-fair-aware-mixed/LFW/Exp-repair-vgg16-v1/results-0-None/5/FPR/localized_data_28/weights.csv\n",
      "     ../nii_dataset/experiments/eAI-fair-aware-mixed/LFW/Exp-repair-vgg16-v1/results-0-None/5/FPR/repaired_model_28/weights.csv\n",
      "=================\n",
      "29 model path:  ../nii_dataset/training/LFW/VGG-Gender.h5\n",
      "(504, 32, 32, 3) None None\n"
     ]
    },
    {
     "name": "stderr",
     "output_type": "stream",
     "text": [
      "Computing gradient: 100%|██████████| 2/2 [00:00<00:00,  8.82it/s]\n",
      "Computing gradient: 100%|██████████| 2/2 [00:00<00:00,  7.91it/s]\n",
      "Computing gradient: 100%|██████████| 2/2 [00:00<00:00, 11.88it/s]\n",
      "Computing gradient: 100%|██████████| 2/2 [00:00<00:00,  8.26it/s]\n",
      "Computing forward impact: 100%|██████████| 512/512 [00:00<00:00, 229481.05it/s]\n",
      "Computing forward impact: 100%|██████████| 512/512 [00:00<00:00, 559386.21it/s]\n",
      "Computing forward impact: 100%|██████████| 512/512 [00:00<00:00, 1497547.87it/s]\n",
      "Collecting objectives for pareto-front: 100%|██████████| 512/512 [00:00<00:00, 4418690.63it/s]\n",
      "Identifying pareto-front: 100%|██████████| 512/512 [00:00<00:00, 36081.25it/s]\n",
      "Extracting pareto-front: 100%|██████████| 512/512 [00:00<00:00, 377281.03it/s]\n"
     ]
    },
    {
     "name": "stdout",
     "output_type": "stream",
     "text": [
      "=================\n",
      "Localize results\n",
      "created files:\n",
      "     ../nii_dataset/experiments/eAI-fair-aware-mixed/LFW/Exp-repair-vgg16-v1/results-0-None/5/FPR/localized_data_29/weights.csv\n",
      "=================\n"
     ]
    },
    {
     "name": "stderr",
     "output_type": "stream",
     "text": [
      "Initializing particles: 100%|██████████| 18/18 [00:00<00:00, 1029.63it/s]\n",
      "Computing velocity bounds: 100%|██████████| 21/21 [00:00<00:00, 355.90it/s]\n",
      "Initializing particle's scores: 100%|██████████| 100/100 [00:40<00:00,  2.49it/s]\n",
      "Updating particle positions (it=1/100): 100%|██████████| 100/100 [00:39<00:00,  2.51it/s]\n",
      "Updating particle positions (it=2/100): 100%|██████████| 100/100 [00:39<00:00,  2.52it/s]\n",
      "Updating particle positions (it=3/100): 100%|██████████| 100/100 [00:39<00:00,  2.54it/s]\n",
      "Updating particle positions (it=4/100): 100%|██████████| 100/100 [00:40<00:00,  2.47it/s]\n",
      "Updating particle positions (it=5/100): 100%|██████████| 100/100 [00:41<00:00,  2.38it/s]\n",
      "Updating particle positions (it=6/100): 100%|██████████| 100/100 [00:39<00:00,  2.55it/s]\n",
      "Updating particle positions (it=7/100): 100%|██████████| 100/100 [00:41<00:00,  2.43it/s]\n",
      "Updating particle positions (it=8/100): 100%|██████████| 100/100 [00:39<00:00,  2.54it/s]\n",
      "Updating particle positions (it=9/100): 100%|██████████| 100/100 [00:40<00:00,  2.47it/s]\n",
      "Updating particle positions (it=10/100): 100%|██████████| 100/100 [00:40<00:00,  2.48it/s]\n",
      "Updating particle positions (it=11/100): 100%|██████████| 100/100 [00:40<00:00,  2.47it/s]\n",
      "Updating particle positions (it=12/100): 100%|██████████| 100/100 [00:40<00:00,  2.45it/s]\n"
     ]
    },
    {
     "name": "stdout",
     "output_type": "stream",
     "text": [
      "INFO:tensorflow:Assets written to: ../nii_dataset/experiments/eAI-fair-aware-mixed/LFW/Exp-repair-vgg16-v1/results-0-None/5/FPR/repaired_model_29/repair/assets\n"
     ]
    },
    {
     "name": "stderr",
     "output_type": "stream",
     "text": [
      "INFO:tensorflow:Assets written to: ../nii_dataset/experiments/eAI-fair-aware-mixed/LFW/Exp-repair-vgg16-v1/results-0-None/5/FPR/repaired_model_29/repair/assets\n"
     ]
    },
    {
     "name": "stdout",
     "output_type": "stream",
     "text": [
      "=================\n",
      "Optimize results\n",
      "created files:\n",
      "     ../nii_dataset/experiments/eAI-fair-aware-mixed/LFW/Exp-repair-vgg16-v1/results-0-None/5/FPR/localized_data_29/weights.csv\n",
      "     ../nii_dataset/experiments/eAI-fair-aware-mixed/LFW/Exp-repair-vgg16-v1/results-0-None/5/FPR/repaired_model_29/weights.csv\n",
      "=================\n"
     ]
    }
   ],
   "source": [
    "evaluateFairness = EvaluateFairness(model_dir, target_data_neg_dir,data_dict,test_labels, target_data_pos_dir, output_dir)\n",
    "evaluateFairness.evaluate(num_runs,FAIRNESS, unfav, sample_global, based_on, start_iteration=0, topN=topN)\n",
    "# evaluateFairness.evaluate_arachne(num_runs,FAIRNESS, unfav, sample_global, based_on, start_iteration=0, topN=topN)"
   ],
   "metadata": {
    "collapsed": false,
    "ExecuteTime": {
     "end_time": "2024-08-20T00:56:21.141189Z",
     "start_time": "2024-08-19T20:35:11.161581Z"
    }
   },
   "id": "3ccb3d1a1e22113c",
   "execution_count": 72
  },
  {
   "cell_type": "code",
   "outputs": [],
   "source": [],
   "metadata": {
    "collapsed": false
   },
   "id": "b8c25584908cc078"
  }
 ],
 "metadata": {
  "kernelspec": {
   "display_name": "Python 3",
   "language": "python",
   "name": "python3"
  },
  "language_info": {
   "codemirror_mode": {
    "name": "ipython",
    "version": 2
   },
   "file_extension": ".py",
   "mimetype": "text/x-python",
   "name": "python",
   "nbconvert_exporter": "python",
   "pygments_lexer": "ipython2",
   "version": "2.7.6"
  }
 },
 "nbformat": 4,
 "nbformat_minor": 5
}
